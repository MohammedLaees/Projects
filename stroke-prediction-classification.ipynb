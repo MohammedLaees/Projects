{
 "cells": [
  {
   "cell_type": "code",
   "execution_count": 1,
   "id": "85f0f3d2",
   "metadata": {
    "execution": {
     "iopub.execute_input": "2022-08-01T04:29:20.590151Z",
     "iopub.status.busy": "2022-08-01T04:29:20.589685Z",
     "iopub.status.idle": "2022-08-01T04:29:20.603099Z",
     "shell.execute_reply": "2022-08-01T04:29:20.602119Z"
    },
    "id": "mMEEI28DSm8n",
    "papermill": {
     "duration": 0.037947,
     "end_time": "2022-08-01T04:29:20.605481",
     "exception": false,
     "start_time": "2022-08-01T04:29:20.567534",
     "status": "completed"
    },
    "tags": []
   },
   "outputs": [],
   "source": [
    "import pandas as pd\n",
    "import numpy as np"
   ]
  },
  {
   "cell_type": "code",
   "execution_count": 2,
   "id": "b3662f20",
   "metadata": {
    "execution": {
     "iopub.execute_input": "2022-08-01T04:29:20.647274Z",
     "iopub.status.busy": "2022-08-01T04:29:20.646911Z",
     "iopub.status.idle": "2022-08-01T04:29:20.676655Z",
     "shell.execute_reply": "2022-08-01T04:29:20.675614Z"
    },
    "id": "5FO9qeJzTDep",
    "papermill": {
     "duration": 0.0529,
     "end_time": "2022-08-01T04:29:20.679050",
     "exception": false,
     "start_time": "2022-08-01T04:29:20.626150",
     "status": "completed"
    },
    "tags": []
   },
   "outputs": [],
   "source": [
    "df = pd.read_csv('F:/Stroke Prediction/healthcare-dataset.csv')"
   ]
  },
  {
   "cell_type": "code",
   "execution_count": 3,
   "id": "6ffede4f",
   "metadata": {
    "execution": {
     "iopub.execute_input": "2022-08-01T04:29:20.719134Z",
     "iopub.status.busy": "2022-08-01T04:29:20.718423Z",
     "iopub.status.idle": "2022-08-01T04:29:20.741933Z",
     "shell.execute_reply": "2022-08-01T04:29:20.740894Z"
    },
    "id": "yUiS2dk2THTz",
    "outputId": "80b7ae43-7f91-49b8-a57d-11243cea27be",
    "papermill": {
     "duration": 0.046019,
     "end_time": "2022-08-01T04:29:20.744228",
     "exception": false,
     "start_time": "2022-08-01T04:29:20.698209",
     "status": "completed"
    },
    "tags": []
   },
   "outputs": [
    {
     "data": {
      "text/html": [
       "<div>\n",
       "<style scoped>\n",
       "    .dataframe tbody tr th:only-of-type {\n",
       "        vertical-align: middle;\n",
       "    }\n",
       "\n",
       "    .dataframe tbody tr th {\n",
       "        vertical-align: top;\n",
       "    }\n",
       "\n",
       "    .dataframe thead th {\n",
       "        text-align: right;\n",
       "    }\n",
       "</style>\n",
       "<table border=\"1\" class=\"dataframe\">\n",
       "  <thead>\n",
       "    <tr style=\"text-align: right;\">\n",
       "      <th></th>\n",
       "      <th>id</th>\n",
       "      <th>gender</th>\n",
       "      <th>age</th>\n",
       "      <th>hypertension</th>\n",
       "      <th>heart_disease</th>\n",
       "      <th>ever_married</th>\n",
       "      <th>work_type</th>\n",
       "      <th>Residence_type</th>\n",
       "      <th>avg_glucose_level</th>\n",
       "      <th>bmi</th>\n",
       "      <th>smoking_status</th>\n",
       "      <th>stroke</th>\n",
       "    </tr>\n",
       "  </thead>\n",
       "  <tbody>\n",
       "    <tr>\n",
       "      <th>0</th>\n",
       "      <td>9046</td>\n",
       "      <td>Male</td>\n",
       "      <td>67.0</td>\n",
       "      <td>0</td>\n",
       "      <td>1</td>\n",
       "      <td>Yes</td>\n",
       "      <td>Private</td>\n",
       "      <td>Urban</td>\n",
       "      <td>228.69</td>\n",
       "      <td>36.6</td>\n",
       "      <td>formerly smoked</td>\n",
       "      <td>1</td>\n",
       "    </tr>\n",
       "    <tr>\n",
       "      <th>1</th>\n",
       "      <td>51676</td>\n",
       "      <td>Female</td>\n",
       "      <td>61.0</td>\n",
       "      <td>0</td>\n",
       "      <td>0</td>\n",
       "      <td>Yes</td>\n",
       "      <td>Self-employed</td>\n",
       "      <td>Rural</td>\n",
       "      <td>202.21</td>\n",
       "      <td>NaN</td>\n",
       "      <td>never smoked</td>\n",
       "      <td>1</td>\n",
       "    </tr>\n",
       "    <tr>\n",
       "      <th>2</th>\n",
       "      <td>31112</td>\n",
       "      <td>Male</td>\n",
       "      <td>80.0</td>\n",
       "      <td>0</td>\n",
       "      <td>1</td>\n",
       "      <td>Yes</td>\n",
       "      <td>Private</td>\n",
       "      <td>Rural</td>\n",
       "      <td>105.92</td>\n",
       "      <td>32.5</td>\n",
       "      <td>never smoked</td>\n",
       "      <td>1</td>\n",
       "    </tr>\n",
       "    <tr>\n",
       "      <th>3</th>\n",
       "      <td>60182</td>\n",
       "      <td>Female</td>\n",
       "      <td>49.0</td>\n",
       "      <td>0</td>\n",
       "      <td>0</td>\n",
       "      <td>Yes</td>\n",
       "      <td>Private</td>\n",
       "      <td>Urban</td>\n",
       "      <td>171.23</td>\n",
       "      <td>34.4</td>\n",
       "      <td>smokes</td>\n",
       "      <td>1</td>\n",
       "    </tr>\n",
       "    <tr>\n",
       "      <th>4</th>\n",
       "      <td>1665</td>\n",
       "      <td>Female</td>\n",
       "      <td>79.0</td>\n",
       "      <td>1</td>\n",
       "      <td>0</td>\n",
       "      <td>Yes</td>\n",
       "      <td>Self-employed</td>\n",
       "      <td>Rural</td>\n",
       "      <td>174.12</td>\n",
       "      <td>24.0</td>\n",
       "      <td>never smoked</td>\n",
       "      <td>1</td>\n",
       "    </tr>\n",
       "  </tbody>\n",
       "</table>\n",
       "</div>"
      ],
      "text/plain": [
       "      id  gender   age  hypertension  heart_disease ever_married  \\\n",
       "0   9046    Male  67.0             0              1          Yes   \n",
       "1  51676  Female  61.0             0              0          Yes   \n",
       "2  31112    Male  80.0             0              1          Yes   \n",
       "3  60182  Female  49.0             0              0          Yes   \n",
       "4   1665  Female  79.0             1              0          Yes   \n",
       "\n",
       "       work_type Residence_type  avg_glucose_level   bmi   smoking_status  \\\n",
       "0        Private          Urban             228.69  36.6  formerly smoked   \n",
       "1  Self-employed          Rural             202.21   NaN     never smoked   \n",
       "2        Private          Rural             105.92  32.5     never smoked   \n",
       "3        Private          Urban             171.23  34.4           smokes   \n",
       "4  Self-employed          Rural             174.12  24.0     never smoked   \n",
       "\n",
       "   stroke  \n",
       "0       1  \n",
       "1       1  \n",
       "2       1  \n",
       "3       1  \n",
       "4       1  "
      ]
     },
     "execution_count": 3,
     "metadata": {},
     "output_type": "execute_result"
    }
   ],
   "source": [
    "df.head()"
   ]
  },
  {
   "cell_type": "code",
   "execution_count": 4,
   "id": "8995975e",
   "metadata": {
    "execution": {
     "iopub.execute_input": "2022-08-01T04:29:20.784445Z",
     "iopub.status.busy": "2022-08-01T04:29:20.784059Z",
     "iopub.status.idle": "2022-08-01T04:29:20.797214Z",
     "shell.execute_reply": "2022-08-01T04:29:20.796222Z"
    },
    "id": "WOPLSvSPTIpm",
    "outputId": "77c78619-f097-4484-da3d-428c8b34397f",
    "papermill": {
     "duration": 0.035669,
     "end_time": "2022-08-01T04:29:20.799530",
     "exception": false,
     "start_time": "2022-08-01T04:29:20.763861",
     "status": "completed"
    },
    "tags": []
   },
   "outputs": [
    {
     "data": {
      "text/plain": [
       "id                     0\n",
       "gender                 0\n",
       "age                    0\n",
       "hypertension           0\n",
       "heart_disease          0\n",
       "ever_married           0\n",
       "work_type              0\n",
       "Residence_type         0\n",
       "avg_glucose_level      0\n",
       "bmi                  201\n",
       "smoking_status         0\n",
       "stroke                 0\n",
       "dtype: int64"
      ]
     },
     "execution_count": 4,
     "metadata": {},
     "output_type": "execute_result"
    }
   ],
   "source": [
    "df.isnull().sum()"
   ]
  },
  {
   "cell_type": "code",
   "execution_count": 5,
   "id": "a22d5187",
   "metadata": {
    "execution": {
     "iopub.execute_input": "2022-08-01T04:29:20.839026Z",
     "iopub.status.busy": "2022-08-01T04:29:20.838642Z",
     "iopub.status.idle": "2022-08-01T04:29:20.844435Z",
     "shell.execute_reply": "2022-08-01T04:29:20.843726Z"
    },
    "id": "ruJHc28vTk9j",
    "outputId": "f7edbd87-9c0d-4958-da7f-3ef882541d8a",
    "papermill": {
     "duration": 0.027905,
     "end_time": "2022-08-01T04:29:20.846340",
     "exception": false,
     "start_time": "2022-08-01T04:29:20.818435",
     "status": "completed"
    },
    "tags": []
   },
   "outputs": [
    {
     "data": {
      "text/plain": [
       "(5110, 12)"
      ]
     },
     "execution_count": 5,
     "metadata": {},
     "output_type": "execute_result"
    }
   ],
   "source": [
    "df.shape"
   ]
  },
  {
   "cell_type": "markdown",
   "id": "09402c51",
   "metadata": {
    "id": "qtgAXpngTuKI",
    "papermill": {
     "duration": 0.018662,
     "end_time": "2022-08-01T04:29:20.884024",
     "exception": false,
     "start_time": "2022-08-01T04:29:20.865362",
     "status": "completed"
    },
    "tags": []
   },
   "source": [
    "Splitting the data into x and y"
   ]
  },
  {
   "cell_type": "code",
   "execution_count": 6,
   "id": "9276739f",
   "metadata": {
    "execution": {
     "iopub.execute_input": "2022-08-01T04:29:20.924187Z",
     "iopub.status.busy": "2022-08-01T04:29:20.923199Z",
     "iopub.status.idle": "2022-08-01T04:29:20.935510Z",
     "shell.execute_reply": "2022-08-01T04:29:20.934546Z"
    },
    "id": "MEceflfzTpsw",
    "papermill": {
     "duration": 0.034834,
     "end_time": "2022-08-01T04:29:20.937786",
     "exception": false,
     "start_time": "2022-08-01T04:29:20.902952",
     "status": "completed"
    },
    "tags": []
   },
   "outputs": [],
   "source": [
    "x = df.drop(['id','stroke'],axis = 1)"
   ]
  },
  {
   "cell_type": "code",
   "execution_count": 7,
   "id": "d1a5ac3f",
   "metadata": {
    "execution": {
     "iopub.execute_input": "2022-08-01T04:29:20.978296Z",
     "iopub.status.busy": "2022-08-01T04:29:20.977481Z",
     "iopub.status.idle": "2022-08-01T04:29:20.994622Z",
     "shell.execute_reply": "2022-08-01T04:29:20.993532Z"
    },
    "id": "Tneoq0DRT5de",
    "outputId": "a99d0263-6635-41d8-d4a0-76666f6bdada",
    "papermill": {
     "duration": 0.039777,
     "end_time": "2022-08-01T04:29:20.996701",
     "exception": false,
     "start_time": "2022-08-01T04:29:20.956924",
     "status": "completed"
    },
    "tags": []
   },
   "outputs": [
    {
     "data": {
      "text/html": [
       "<div>\n",
       "<style scoped>\n",
       "    .dataframe tbody tr th:only-of-type {\n",
       "        vertical-align: middle;\n",
       "    }\n",
       "\n",
       "    .dataframe tbody tr th {\n",
       "        vertical-align: top;\n",
       "    }\n",
       "\n",
       "    .dataframe thead th {\n",
       "        text-align: right;\n",
       "    }\n",
       "</style>\n",
       "<table border=\"1\" class=\"dataframe\">\n",
       "  <thead>\n",
       "    <tr style=\"text-align: right;\">\n",
       "      <th></th>\n",
       "      <th>gender</th>\n",
       "      <th>age</th>\n",
       "      <th>hypertension</th>\n",
       "      <th>heart_disease</th>\n",
       "      <th>ever_married</th>\n",
       "      <th>work_type</th>\n",
       "      <th>Residence_type</th>\n",
       "      <th>avg_glucose_level</th>\n",
       "      <th>bmi</th>\n",
       "      <th>smoking_status</th>\n",
       "    </tr>\n",
       "  </thead>\n",
       "  <tbody>\n",
       "    <tr>\n",
       "      <th>0</th>\n",
       "      <td>Male</td>\n",
       "      <td>67.0</td>\n",
       "      <td>0</td>\n",
       "      <td>1</td>\n",
       "      <td>Yes</td>\n",
       "      <td>Private</td>\n",
       "      <td>Urban</td>\n",
       "      <td>228.69</td>\n",
       "      <td>36.6</td>\n",
       "      <td>formerly smoked</td>\n",
       "    </tr>\n",
       "    <tr>\n",
       "      <th>1</th>\n",
       "      <td>Female</td>\n",
       "      <td>61.0</td>\n",
       "      <td>0</td>\n",
       "      <td>0</td>\n",
       "      <td>Yes</td>\n",
       "      <td>Self-employed</td>\n",
       "      <td>Rural</td>\n",
       "      <td>202.21</td>\n",
       "      <td>NaN</td>\n",
       "      <td>never smoked</td>\n",
       "    </tr>\n",
       "    <tr>\n",
       "      <th>2</th>\n",
       "      <td>Male</td>\n",
       "      <td>80.0</td>\n",
       "      <td>0</td>\n",
       "      <td>1</td>\n",
       "      <td>Yes</td>\n",
       "      <td>Private</td>\n",
       "      <td>Rural</td>\n",
       "      <td>105.92</td>\n",
       "      <td>32.5</td>\n",
       "      <td>never smoked</td>\n",
       "    </tr>\n",
       "    <tr>\n",
       "      <th>3</th>\n",
       "      <td>Female</td>\n",
       "      <td>49.0</td>\n",
       "      <td>0</td>\n",
       "      <td>0</td>\n",
       "      <td>Yes</td>\n",
       "      <td>Private</td>\n",
       "      <td>Urban</td>\n",
       "      <td>171.23</td>\n",
       "      <td>34.4</td>\n",
       "      <td>smokes</td>\n",
       "    </tr>\n",
       "    <tr>\n",
       "      <th>4</th>\n",
       "      <td>Female</td>\n",
       "      <td>79.0</td>\n",
       "      <td>1</td>\n",
       "      <td>0</td>\n",
       "      <td>Yes</td>\n",
       "      <td>Self-employed</td>\n",
       "      <td>Rural</td>\n",
       "      <td>174.12</td>\n",
       "      <td>24.0</td>\n",
       "      <td>never smoked</td>\n",
       "    </tr>\n",
       "  </tbody>\n",
       "</table>\n",
       "</div>"
      ],
      "text/plain": [
       "   gender   age  hypertension  heart_disease ever_married      work_type  \\\n",
       "0    Male  67.0             0              1          Yes        Private   \n",
       "1  Female  61.0             0              0          Yes  Self-employed   \n",
       "2    Male  80.0             0              1          Yes        Private   \n",
       "3  Female  49.0             0              0          Yes        Private   \n",
       "4  Female  79.0             1              0          Yes  Self-employed   \n",
       "\n",
       "  Residence_type  avg_glucose_level   bmi   smoking_status  \n",
       "0          Urban             228.69  36.6  formerly smoked  \n",
       "1          Rural             202.21   NaN     never smoked  \n",
       "2          Rural             105.92  32.5     never smoked  \n",
       "3          Urban             171.23  34.4           smokes  \n",
       "4          Rural             174.12  24.0     never smoked  "
      ]
     },
     "execution_count": 7,
     "metadata": {},
     "output_type": "execute_result"
    }
   ],
   "source": [
    "x.head()"
   ]
  },
  {
   "cell_type": "code",
   "execution_count": 8,
   "id": "e1c92fdd",
   "metadata": {
    "execution": {
     "iopub.execute_input": "2022-08-01T04:29:21.037685Z",
     "iopub.status.busy": "2022-08-01T04:29:21.037267Z",
     "iopub.status.idle": "2022-08-01T04:29:21.044117Z",
     "shell.execute_reply": "2022-08-01T04:29:21.042848Z"
    },
    "id": "QgGHumr9T6ZU",
    "papermill": {
     "duration": 0.030535,
     "end_time": "2022-08-01T04:29:21.046815",
     "exception": false,
     "start_time": "2022-08-01T04:29:21.016280",
     "status": "completed"
    },
    "tags": []
   },
   "outputs": [],
   "source": [
    "y = df.stroke.values"
   ]
  },
  {
   "cell_type": "code",
   "execution_count": 9,
   "id": "c9c2502b",
   "metadata": {
    "execution": {
     "iopub.execute_input": "2022-08-01T04:29:21.088047Z",
     "iopub.status.busy": "2022-08-01T04:29:21.087268Z",
     "iopub.status.idle": "2022-08-01T04:29:21.094359Z",
     "shell.execute_reply": "2022-08-01T04:29:21.093488Z"
    },
    "id": "SwKZWqomT-YX",
    "outputId": "f0d83f57-343d-419f-9b94-51ed8141e87d",
    "papermill": {
     "duration": 0.03019,
     "end_time": "2022-08-01T04:29:21.096585",
     "exception": false,
     "start_time": "2022-08-01T04:29:21.066395",
     "status": "completed"
    },
    "tags": []
   },
   "outputs": [
    {
     "data": {
      "text/plain": [
       "array([1, 1, 1, ..., 0, 0, 0], dtype=int64)"
      ]
     },
     "execution_count": 9,
     "metadata": {},
     "output_type": "execute_result"
    }
   ],
   "source": [
    "y"
   ]
  },
  {
   "cell_type": "markdown",
   "id": "415c5349",
   "metadata": {
    "id": "eAlNi4RRUDVQ",
    "papermill": {
     "duration": 0.025553,
     "end_time": "2022-08-01T04:29:21.148070",
     "exception": false,
     "start_time": "2022-08-01T04:29:21.122517",
     "status": "completed"
    },
    "tags": []
   },
   "source": [
    "Seeing How many sub-types the string columns have in them."
   ]
  },
  {
   "cell_type": "code",
   "execution_count": 10,
   "id": "e651f3ad",
   "metadata": {
    "execution": {
     "iopub.execute_input": "2022-08-01T04:29:21.196593Z",
     "iopub.status.busy": "2022-08-01T04:29:21.195781Z",
     "iopub.status.idle": "2022-08-01T04:29:21.208226Z",
     "shell.execute_reply": "2022-08-01T04:29:21.207036Z"
    },
    "id": "rS-XNUzlT_gs",
    "outputId": "b9f6d4f6-5c28-4171-ab8a-70111992f221",
    "papermill": {
     "duration": 0.038141,
     "end_time": "2022-08-01T04:29:21.210444",
     "exception": false,
     "start_time": "2022-08-01T04:29:21.172303",
     "status": "completed"
    },
    "tags": []
   },
   "outputs": [
    {
     "data": {
      "text/plain": [
       "Female    2994\n",
       "Male      2115\n",
       "Other        1\n",
       "Name: gender, dtype: int64"
      ]
     },
     "execution_count": 10,
     "metadata": {},
     "output_type": "execute_result"
    }
   ],
   "source": [
    "#this column will need one hot encoding because it has more than 2 sub-types in it\n",
    "df['gender'].value_counts()"
   ]
  },
  {
   "cell_type": "code",
   "execution_count": 11,
   "id": "e0f532e5",
   "metadata": {
    "execution": {
     "iopub.execute_input": "2022-08-01T04:29:21.252107Z",
     "iopub.status.busy": "2022-08-01T04:29:21.251395Z",
     "iopub.status.idle": "2022-08-01T04:29:21.260286Z",
     "shell.execute_reply": "2022-08-01T04:29:21.259328Z"
    },
    "id": "He3Sbb_AUOlP",
    "outputId": "449848f5-3db6-4cb1-edaa-a12ffebc815f",
    "papermill": {
     "duration": 0.031964,
     "end_time": "2022-08-01T04:29:21.262410",
     "exception": false,
     "start_time": "2022-08-01T04:29:21.230446",
     "status": "completed"
    },
    "tags": []
   },
   "outputs": [
    {
     "data": {
      "text/plain": [
       "Yes    3353\n",
       "No     1757\n",
       "Name: ever_married, dtype: int64"
      ]
     },
     "execution_count": 11,
     "metadata": {},
     "output_type": "execute_result"
    }
   ],
   "source": [
    "df['ever_married'].value_counts()"
   ]
  },
  {
   "cell_type": "code",
   "execution_count": 12,
   "id": "5d657b9c",
   "metadata": {
    "execution": {
     "iopub.execute_input": "2022-08-01T04:29:21.303976Z",
     "iopub.status.busy": "2022-08-01T04:29:21.303338Z",
     "iopub.status.idle": "2022-08-01T04:29:21.312364Z",
     "shell.execute_reply": "2022-08-01T04:29:21.311419Z"
    },
    "id": "BtxPTNigUXak",
    "outputId": "3f28a014-d8dd-434d-f6a9-615013e2728f",
    "papermill": {
     "duration": 0.032292,
     "end_time": "2022-08-01T04:29:21.314426",
     "exception": false,
     "start_time": "2022-08-01T04:29:21.282134",
     "status": "completed"
    },
    "tags": []
   },
   "outputs": [
    {
     "data": {
      "text/plain": [
       "Private          2925\n",
       "Self-employed     819\n",
       "children          687\n",
       "Govt_job          657\n",
       "Never_worked       22\n",
       "Name: work_type, dtype: int64"
      ]
     },
     "execution_count": 12,
     "metadata": {},
     "output_type": "execute_result"
    }
   ],
   "source": [
    "#this column will require one_hot_encoding as it has too many sub-types that will need conversion.\n",
    "df['work_type'].value_counts()"
   ]
  },
  {
   "cell_type": "code",
   "execution_count": 13,
   "id": "b5f19ad8",
   "metadata": {
    "execution": {
     "iopub.execute_input": "2022-08-01T04:29:21.356377Z",
     "iopub.status.busy": "2022-08-01T04:29:21.355990Z",
     "iopub.status.idle": "2022-08-01T04:29:21.364622Z",
     "shell.execute_reply": "2022-08-01T04:29:21.363544Z"
    },
    "id": "vIsgN0W2Uumw",
    "outputId": "a80e003a-2984-47d8-cd15-b254d51cc3fb",
    "papermill": {
     "duration": 0.032107,
     "end_time": "2022-08-01T04:29:21.366726",
     "exception": false,
     "start_time": "2022-08-01T04:29:21.334619",
     "status": "completed"
    },
    "tags": []
   },
   "outputs": [
    {
     "data": {
      "text/plain": [
       "Urban    2596\n",
       "Rural    2514\n",
       "Name: Residence_type, dtype: int64"
      ]
     },
     "execution_count": 13,
     "metadata": {},
     "output_type": "execute_result"
    }
   ],
   "source": [
    "df['Residence_type'].value_counts()"
   ]
  },
  {
   "cell_type": "code",
   "execution_count": 14,
   "id": "73737d9f",
   "metadata": {
    "execution": {
     "iopub.execute_input": "2022-08-01T04:29:21.408886Z",
     "iopub.status.busy": "2022-08-01T04:29:21.408234Z",
     "iopub.status.idle": "2022-08-01T04:29:21.416934Z",
     "shell.execute_reply": "2022-08-01T04:29:21.416061Z"
    },
    "id": "qfhoesenVDJK",
    "outputId": "c29c18e1-885a-4fe6-e358-a0a9de169e32",
    "papermill": {
     "duration": 0.032216,
     "end_time": "2022-08-01T04:29:21.419062",
     "exception": false,
     "start_time": "2022-08-01T04:29:21.386846",
     "status": "completed"
    },
    "tags": []
   },
   "outputs": [
    {
     "data": {
      "text/plain": [
       "never smoked       1892\n",
       "Unknown            1544\n",
       "formerly smoked     885\n",
       "smokes              789\n",
       "Name: smoking_status, dtype: int64"
      ]
     },
     "execution_count": 14,
     "metadata": {},
     "output_type": "execute_result"
    }
   ],
   "source": [
    "#This column will need one hot encoding as well\n",
    "df['smoking_status'].value_counts()"
   ]
  },
  {
   "cell_type": "markdown",
   "id": "525ee9ed",
   "metadata": {
    "id": "0MtPzinhV72S",
    "papermill": {
     "duration": 0.019841,
     "end_time": "2022-08-01T04:29:21.459013",
     "exception": false,
     "start_time": "2022-08-01T04:29:21.439172",
     "status": "completed"
    },
    "tags": []
   },
   "source": [
    "Data Conversion"
   ]
  },
  {
   "cell_type": "code",
   "execution_count": 15,
   "id": "fdb18524",
   "metadata": {
    "execution": {
     "iopub.execute_input": "2022-08-01T04:29:21.501081Z",
     "iopub.status.busy": "2022-08-01T04:29:21.500437Z",
     "iopub.status.idle": "2022-08-01T04:29:21.513738Z",
     "shell.execute_reply": "2022-08-01T04:29:21.512797Z"
    },
    "id": "zRmoqD1OXS9n",
    "papermill": {
     "duration": 0.036941,
     "end_time": "2022-08-01T04:29:21.515987",
     "exception": false,
     "start_time": "2022-08-01T04:29:21.479046",
     "status": "completed"
    },
    "tags": []
   },
   "outputs": [],
   "source": [
    "x['ever_married'] = [1 if each == 'Yes' else 0 for each in x['ever_married']]\n",
    "x['Residence_type'] = [1 if each == 'Urban' else 0 for each in x['Residence_type']]"
   ]
  },
  {
   "cell_type": "code",
   "execution_count": 16,
   "id": "e1a9a1fb",
   "metadata": {
    "execution": {
     "iopub.execute_input": "2022-08-01T04:29:21.558218Z",
     "iopub.status.busy": "2022-08-01T04:29:21.557559Z",
     "iopub.status.idle": "2022-08-01T04:29:21.579433Z",
     "shell.execute_reply": "2022-08-01T04:29:21.578335Z"
    },
    "id": "-AGVArnTXqbJ",
    "outputId": "aafc265a-cbff-4e8e-843d-4b1ee7f64fcd",
    "papermill": {
     "duration": 0.04565,
     "end_time": "2022-08-01T04:29:21.581740",
     "exception": false,
     "start_time": "2022-08-01T04:29:21.536090",
     "status": "completed"
    },
    "tags": []
   },
   "outputs": [
    {
     "data": {
      "text/html": [
       "<div>\n",
       "<style scoped>\n",
       "    .dataframe tbody tr th:only-of-type {\n",
       "        vertical-align: middle;\n",
       "    }\n",
       "\n",
       "    .dataframe tbody tr th {\n",
       "        vertical-align: top;\n",
       "    }\n",
       "\n",
       "    .dataframe thead th {\n",
       "        text-align: right;\n",
       "    }\n",
       "</style>\n",
       "<table border=\"1\" class=\"dataframe\">\n",
       "  <thead>\n",
       "    <tr style=\"text-align: right;\">\n",
       "      <th></th>\n",
       "      <th>gender</th>\n",
       "      <th>age</th>\n",
       "      <th>hypertension</th>\n",
       "      <th>heart_disease</th>\n",
       "      <th>ever_married</th>\n",
       "      <th>work_type</th>\n",
       "      <th>Residence_type</th>\n",
       "      <th>avg_glucose_level</th>\n",
       "      <th>bmi</th>\n",
       "      <th>smoking_status</th>\n",
       "    </tr>\n",
       "  </thead>\n",
       "  <tbody>\n",
       "    <tr>\n",
       "      <th>0</th>\n",
       "      <td>Male</td>\n",
       "      <td>67.0</td>\n",
       "      <td>0</td>\n",
       "      <td>1</td>\n",
       "      <td>1</td>\n",
       "      <td>Private</td>\n",
       "      <td>1</td>\n",
       "      <td>228.69</td>\n",
       "      <td>36.6</td>\n",
       "      <td>formerly smoked</td>\n",
       "    </tr>\n",
       "    <tr>\n",
       "      <th>1</th>\n",
       "      <td>Female</td>\n",
       "      <td>61.0</td>\n",
       "      <td>0</td>\n",
       "      <td>0</td>\n",
       "      <td>1</td>\n",
       "      <td>Self-employed</td>\n",
       "      <td>0</td>\n",
       "      <td>202.21</td>\n",
       "      <td>NaN</td>\n",
       "      <td>never smoked</td>\n",
       "    </tr>\n",
       "    <tr>\n",
       "      <th>2</th>\n",
       "      <td>Male</td>\n",
       "      <td>80.0</td>\n",
       "      <td>0</td>\n",
       "      <td>1</td>\n",
       "      <td>1</td>\n",
       "      <td>Private</td>\n",
       "      <td>0</td>\n",
       "      <td>105.92</td>\n",
       "      <td>32.5</td>\n",
       "      <td>never smoked</td>\n",
       "    </tr>\n",
       "    <tr>\n",
       "      <th>3</th>\n",
       "      <td>Female</td>\n",
       "      <td>49.0</td>\n",
       "      <td>0</td>\n",
       "      <td>0</td>\n",
       "      <td>1</td>\n",
       "      <td>Private</td>\n",
       "      <td>1</td>\n",
       "      <td>171.23</td>\n",
       "      <td>34.4</td>\n",
       "      <td>smokes</td>\n",
       "    </tr>\n",
       "    <tr>\n",
       "      <th>4</th>\n",
       "      <td>Female</td>\n",
       "      <td>79.0</td>\n",
       "      <td>1</td>\n",
       "      <td>0</td>\n",
       "      <td>1</td>\n",
       "      <td>Self-employed</td>\n",
       "      <td>0</td>\n",
       "      <td>174.12</td>\n",
       "      <td>24.0</td>\n",
       "      <td>never smoked</td>\n",
       "    </tr>\n",
       "    <tr>\n",
       "      <th>...</th>\n",
       "      <td>...</td>\n",
       "      <td>...</td>\n",
       "      <td>...</td>\n",
       "      <td>...</td>\n",
       "      <td>...</td>\n",
       "      <td>...</td>\n",
       "      <td>...</td>\n",
       "      <td>...</td>\n",
       "      <td>...</td>\n",
       "      <td>...</td>\n",
       "    </tr>\n",
       "    <tr>\n",
       "      <th>5105</th>\n",
       "      <td>Female</td>\n",
       "      <td>80.0</td>\n",
       "      <td>1</td>\n",
       "      <td>0</td>\n",
       "      <td>1</td>\n",
       "      <td>Private</td>\n",
       "      <td>1</td>\n",
       "      <td>83.75</td>\n",
       "      <td>NaN</td>\n",
       "      <td>never smoked</td>\n",
       "    </tr>\n",
       "    <tr>\n",
       "      <th>5106</th>\n",
       "      <td>Female</td>\n",
       "      <td>81.0</td>\n",
       "      <td>0</td>\n",
       "      <td>0</td>\n",
       "      <td>1</td>\n",
       "      <td>Self-employed</td>\n",
       "      <td>1</td>\n",
       "      <td>125.20</td>\n",
       "      <td>40.0</td>\n",
       "      <td>never smoked</td>\n",
       "    </tr>\n",
       "    <tr>\n",
       "      <th>5107</th>\n",
       "      <td>Female</td>\n",
       "      <td>35.0</td>\n",
       "      <td>0</td>\n",
       "      <td>0</td>\n",
       "      <td>1</td>\n",
       "      <td>Self-employed</td>\n",
       "      <td>0</td>\n",
       "      <td>82.99</td>\n",
       "      <td>30.6</td>\n",
       "      <td>never smoked</td>\n",
       "    </tr>\n",
       "    <tr>\n",
       "      <th>5108</th>\n",
       "      <td>Male</td>\n",
       "      <td>51.0</td>\n",
       "      <td>0</td>\n",
       "      <td>0</td>\n",
       "      <td>1</td>\n",
       "      <td>Private</td>\n",
       "      <td>0</td>\n",
       "      <td>166.29</td>\n",
       "      <td>25.6</td>\n",
       "      <td>formerly smoked</td>\n",
       "    </tr>\n",
       "    <tr>\n",
       "      <th>5109</th>\n",
       "      <td>Female</td>\n",
       "      <td>44.0</td>\n",
       "      <td>0</td>\n",
       "      <td>0</td>\n",
       "      <td>1</td>\n",
       "      <td>Govt_job</td>\n",
       "      <td>1</td>\n",
       "      <td>85.28</td>\n",
       "      <td>26.2</td>\n",
       "      <td>Unknown</td>\n",
       "    </tr>\n",
       "  </tbody>\n",
       "</table>\n",
       "<p>5110 rows × 10 columns</p>\n",
       "</div>"
      ],
      "text/plain": [
       "      gender   age  hypertension  heart_disease  ever_married      work_type  \\\n",
       "0       Male  67.0             0              1             1        Private   \n",
       "1     Female  61.0             0              0             1  Self-employed   \n",
       "2       Male  80.0             0              1             1        Private   \n",
       "3     Female  49.0             0              0             1        Private   \n",
       "4     Female  79.0             1              0             1  Self-employed   \n",
       "...      ...   ...           ...            ...           ...            ...   \n",
       "5105  Female  80.0             1              0             1        Private   \n",
       "5106  Female  81.0             0              0             1  Self-employed   \n",
       "5107  Female  35.0             0              0             1  Self-employed   \n",
       "5108    Male  51.0             0              0             1        Private   \n",
       "5109  Female  44.0             0              0             1       Govt_job   \n",
       "\n",
       "      Residence_type  avg_glucose_level   bmi   smoking_status  \n",
       "0                  1             228.69  36.6  formerly smoked  \n",
       "1                  0             202.21   NaN     never smoked  \n",
       "2                  0             105.92  32.5     never smoked  \n",
       "3                  1             171.23  34.4           smokes  \n",
       "4                  0             174.12  24.0     never smoked  \n",
       "...              ...                ...   ...              ...  \n",
       "5105               1              83.75   NaN     never smoked  \n",
       "5106               1             125.20  40.0     never smoked  \n",
       "5107               0              82.99  30.6     never smoked  \n",
       "5108               0             166.29  25.6  formerly smoked  \n",
       "5109               1              85.28  26.2          Unknown  \n",
       "\n",
       "[5110 rows x 10 columns]"
      ]
     },
     "execution_count": 16,
     "metadata": {},
     "output_type": "execute_result"
    }
   ],
   "source": [
    "x"
   ]
  },
  {
   "cell_type": "markdown",
   "id": "8dd75168",
   "metadata": {
    "id": "eKLC2XIgXwlg",
    "papermill": {
     "duration": 0.020383,
     "end_time": "2022-08-01T04:29:21.622593",
     "exception": false,
     "start_time": "2022-08-01T04:29:21.602210",
     "status": "completed"
    },
    "tags": []
   },
   "source": [
    "Data Trandformation / Preparation - Applying OneHotEncoding to the columns gender, work_type and smoking_status (bcoz these columns has more than 2 sub categories)"
   ]
  },
  {
   "cell_type": "code",
   "execution_count": 17,
   "id": "78ba882a",
   "metadata": {
    "execution": {
     "iopub.execute_input": "2022-08-01T04:29:21.666893Z",
     "iopub.status.busy": "2022-08-01T04:29:21.666233Z",
     "iopub.status.idle": "2022-08-01T04:29:21.675132Z",
     "shell.execute_reply": "2022-08-01T04:29:21.674280Z"
    },
    "id": "GKhkwR-TXrgy",
    "outputId": "cb75d9b6-c6b4-4374-d0cb-631c1001ce28",
    "papermill": {
     "duration": 0.033761,
     "end_time": "2022-08-01T04:29:21.677232",
     "exception": false,
     "start_time": "2022-08-01T04:29:21.643471",
     "status": "completed"
    },
    "tags": []
   },
   "outputs": [
    {
     "data": {
      "text/plain": [
       "array(['Male', 'Female', 'Other'], dtype=object)"
      ]
     },
     "execution_count": 17,
     "metadata": {},
     "output_type": "execute_result"
    }
   ],
   "source": [
    "# Checking how many unique categories gender column has.\n",
    "x['gender'].unique()"
   ]
  },
  {
   "cell_type": "code",
   "execution_count": 18,
   "id": "f0f9a9df",
   "metadata": {
    "execution": {
     "iopub.execute_input": "2022-08-01T04:29:21.720865Z",
     "iopub.status.busy": "2022-08-01T04:29:21.719842Z",
     "iopub.status.idle": "2022-08-01T04:29:22.744607Z",
     "shell.execute_reply": "2022-08-01T04:29:22.743457Z"
    },
    "id": "ftQAt9hiYbcN",
    "papermill": {
     "duration": 1.049287,
     "end_time": "2022-08-01T04:29:22.747198",
     "exception": false,
     "start_time": "2022-08-01T04:29:21.697911",
     "status": "completed"
    },
    "tags": []
   },
   "outputs": [],
   "source": [
    "from sklearn.preprocessing import OneHotEncoder"
   ]
  },
  {
   "cell_type": "code",
   "execution_count": 19,
   "id": "685a42ac",
   "metadata": {
    "execution": {
     "iopub.execute_input": "2022-08-01T04:29:22.801512Z",
     "iopub.status.busy": "2022-08-01T04:29:22.801115Z",
     "iopub.status.idle": "2022-08-01T04:29:22.805521Z",
     "shell.execute_reply": "2022-08-01T04:29:22.804408Z"
    },
    "id": "ZBZ1u0rMYsLt",
    "papermill": {
     "duration": 0.029656,
     "end_time": "2022-08-01T04:29:22.807757",
     "exception": false,
     "start_time": "2022-08-01T04:29:22.778101",
     "status": "completed"
    },
    "tags": []
   },
   "outputs": [],
   "source": [
    "#Creating an object for onehotencoder\n",
    "ohe = OneHotEncoder()"
   ]
  },
  {
   "cell_type": "code",
   "execution_count": 20,
   "id": "2fd65186",
   "metadata": {
    "execution": {
     "iopub.execute_input": "2022-08-01T04:29:22.852032Z",
     "iopub.status.busy": "2022-08-01T04:29:22.850924Z",
     "iopub.status.idle": "2022-08-01T04:29:22.862689Z",
     "shell.execute_reply": "2022-08-01T04:29:22.861736Z"
    },
    "id": "-qght36JYyQD",
    "outputId": "daae241c-7079-448e-af77-32a2ac0b3ca5",
    "papermill": {
     "duration": 0.036312,
     "end_time": "2022-08-01T04:29:22.864986",
     "exception": false,
     "start_time": "2022-08-01T04:29:22.828674",
     "status": "completed"
    },
    "tags": []
   },
   "outputs": [
    {
     "data": {
      "text/plain": [
       "array([[0., 1., 0.],\n",
       "       [1., 0., 0.],\n",
       "       [0., 1., 0.],\n",
       "       ...,\n",
       "       [1., 0., 0.],\n",
       "       [0., 1., 0.],\n",
       "       [1., 0., 0.]])"
      ]
     },
     "execution_count": 20,
     "metadata": {},
     "output_type": "execute_result"
    }
   ],
   "source": [
    "#Converting the gender into 3 columns and tranforming the data + storing it as an array\n",
    "ohe.fit_transform(x[['gender']]).toarray()"
   ]
  },
  {
   "cell_type": "code",
   "execution_count": 21,
   "id": "ae64d27f",
   "metadata": {
    "execution": {
     "iopub.execute_input": "2022-08-01T04:29:22.909240Z",
     "iopub.status.busy": "2022-08-01T04:29:22.908557Z",
     "iopub.status.idle": "2022-08-01T04:29:22.916568Z",
     "shell.execute_reply": "2022-08-01T04:29:22.915733Z"
    },
    "id": "Yaev7JQKZKTn",
    "papermill": {
     "duration": 0.032779,
     "end_time": "2022-08-01T04:29:22.918849",
     "exception": false,
     "start_time": "2022-08-01T04:29:22.886070",
     "status": "completed"
    },
    "tags": []
   },
   "outputs": [],
   "source": [
    "#storing this converted array into a variable \n",
    "feature_array = ohe.fit_transform(x[['gender']]).toarray()"
   ]
  },
  {
   "cell_type": "code",
   "execution_count": 22,
   "id": "17c7dd2c",
   "metadata": {
    "execution": {
     "iopub.execute_input": "2022-08-01T04:29:22.963500Z",
     "iopub.status.busy": "2022-08-01T04:29:22.962787Z",
     "iopub.status.idle": "2022-08-01T04:29:22.968631Z",
     "shell.execute_reply": "2022-08-01T04:29:22.967885Z"
    },
    "id": "0JoFVesEZhV9",
    "outputId": "d15b59fc-ac4d-4a21-8a63-3d026e40a56c",
    "papermill": {
     "duration": 0.030255,
     "end_time": "2022-08-01T04:29:22.970643",
     "exception": false,
     "start_time": "2022-08-01T04:29:22.940388",
     "status": "completed"
    },
    "tags": []
   },
   "outputs": [
    {
     "data": {
      "text/plain": [
       "[array(['Female', 'Male', 'Other'], dtype=object)]"
      ]
     },
     "execution_count": 22,
     "metadata": {},
     "output_type": "execute_result"
    }
   ],
   "source": [
    "#Extracting the labels of these three columns and storing it in another variable\n",
    "ohe.categories_"
   ]
  },
  {
   "cell_type": "code",
   "execution_count": 23,
   "id": "5b747e5d",
   "metadata": {
    "execution": {
     "iopub.execute_input": "2022-08-01T04:29:23.014797Z",
     "iopub.status.busy": "2022-08-01T04:29:23.014127Z",
     "iopub.status.idle": "2022-08-01T04:29:23.018059Z",
     "shell.execute_reply": "2022-08-01T04:29:23.017304Z"
    },
    "id": "lrDolgHdZqVs",
    "papermill": {
     "duration": 0.029112,
     "end_time": "2022-08-01T04:29:23.020853",
     "exception": false,
     "start_time": "2022-08-01T04:29:22.991741",
     "status": "completed"
    },
    "tags": []
   },
   "outputs": [],
   "source": [
    "feature_label = ohe.categories_"
   ]
  },
  {
   "cell_type": "markdown",
   "id": "371d9497",
   "metadata": {
    "id": "bNt52Y8LZ0r4",
    "papermill": {
     "duration": 0.020818,
     "end_time": "2022-08-01T04:29:23.062800",
     "exception": false,
     "start_time": "2022-08-01T04:29:23.041982",
     "status": "completed"
    },
    "tags": []
   },
   "source": [
    "Now the converted data and the labels are in array format we will now \n",
    "- Convert it into a dataframe\n",
    "- Concatinating this data frame into the previous one"
   ]
  },
  {
   "cell_type": "code",
   "execution_count": 24,
   "id": "628721cf",
   "metadata": {
    "execution": {
     "iopub.execute_input": "2022-08-01T04:29:23.107402Z",
     "iopub.status.busy": "2022-08-01T04:29:23.106192Z",
     "iopub.status.idle": "2022-08-01T04:29:23.124812Z",
     "shell.execute_reply": "2022-08-01T04:29:23.123684Z"
    },
    "id": "AIxoAauoZvvk",
    "outputId": "89ef015b-0b1e-4f1f-cfbd-3807e6d0ec19",
    "papermill": {
     "duration": 0.043322,
     "end_time": "2022-08-01T04:29:23.127097",
     "exception": false,
     "start_time": "2022-08-01T04:29:23.083775",
     "status": "completed"
    },
    "tags": []
   },
   "outputs": [
    {
     "data": {
      "text/html": [
       "<div>\n",
       "<style scoped>\n",
       "    .dataframe tbody tr th:only-of-type {\n",
       "        vertical-align: middle;\n",
       "    }\n",
       "\n",
       "    .dataframe tbody tr th {\n",
       "        vertical-align: top;\n",
       "    }\n",
       "\n",
       "    .dataframe thead tr th {\n",
       "        text-align: left;\n",
       "    }\n",
       "</style>\n",
       "<table border=\"1\" class=\"dataframe\">\n",
       "  <thead>\n",
       "    <tr>\n",
       "      <th></th>\n",
       "      <th>Female</th>\n",
       "      <th>Male</th>\n",
       "      <th>Other</th>\n",
       "    </tr>\n",
       "  </thead>\n",
       "  <tbody>\n",
       "    <tr>\n",
       "      <th>0</th>\n",
       "      <td>0.0</td>\n",
       "      <td>1.0</td>\n",
       "      <td>0.0</td>\n",
       "    </tr>\n",
       "    <tr>\n",
       "      <th>1</th>\n",
       "      <td>1.0</td>\n",
       "      <td>0.0</td>\n",
       "      <td>0.0</td>\n",
       "    </tr>\n",
       "    <tr>\n",
       "      <th>2</th>\n",
       "      <td>0.0</td>\n",
       "      <td>1.0</td>\n",
       "      <td>0.0</td>\n",
       "    </tr>\n",
       "    <tr>\n",
       "      <th>3</th>\n",
       "      <td>1.0</td>\n",
       "      <td>0.0</td>\n",
       "      <td>0.0</td>\n",
       "    </tr>\n",
       "    <tr>\n",
       "      <th>4</th>\n",
       "      <td>1.0</td>\n",
       "      <td>0.0</td>\n",
       "      <td>0.0</td>\n",
       "    </tr>\n",
       "    <tr>\n",
       "      <th>...</th>\n",
       "      <td>...</td>\n",
       "      <td>...</td>\n",
       "      <td>...</td>\n",
       "    </tr>\n",
       "    <tr>\n",
       "      <th>5105</th>\n",
       "      <td>1.0</td>\n",
       "      <td>0.0</td>\n",
       "      <td>0.0</td>\n",
       "    </tr>\n",
       "    <tr>\n",
       "      <th>5106</th>\n",
       "      <td>1.0</td>\n",
       "      <td>0.0</td>\n",
       "      <td>0.0</td>\n",
       "    </tr>\n",
       "    <tr>\n",
       "      <th>5107</th>\n",
       "      <td>1.0</td>\n",
       "      <td>0.0</td>\n",
       "      <td>0.0</td>\n",
       "    </tr>\n",
       "    <tr>\n",
       "      <th>5108</th>\n",
       "      <td>0.0</td>\n",
       "      <td>1.0</td>\n",
       "      <td>0.0</td>\n",
       "    </tr>\n",
       "    <tr>\n",
       "      <th>5109</th>\n",
       "      <td>1.0</td>\n",
       "      <td>0.0</td>\n",
       "      <td>0.0</td>\n",
       "    </tr>\n",
       "  </tbody>\n",
       "</table>\n",
       "<p>5110 rows × 3 columns</p>\n",
       "</div>"
      ],
      "text/plain": [
       "     Female Male Other\n",
       "0       0.0  1.0   0.0\n",
       "1       1.0  0.0   0.0\n",
       "2       0.0  1.0   0.0\n",
       "3       1.0  0.0   0.0\n",
       "4       1.0  0.0   0.0\n",
       "...     ...  ...   ...\n",
       "5105    1.0  0.0   0.0\n",
       "5106    1.0  0.0   0.0\n",
       "5107    1.0  0.0   0.0\n",
       "5108    0.0  1.0   0.0\n",
       "5109    1.0  0.0   0.0\n",
       "\n",
       "[5110 rows x 3 columns]"
      ]
     },
     "execution_count": 24,
     "metadata": {},
     "output_type": "execute_result"
    }
   ],
   "source": [
    "pd.DataFrame(feature_array, columns = feature_label)"
   ]
  },
  {
   "cell_type": "code",
   "execution_count": 25,
   "id": "f65e64bb",
   "metadata": {
    "execution": {
     "iopub.execute_input": "2022-08-01T04:29:23.172217Z",
     "iopub.status.busy": "2022-08-01T04:29:23.171454Z",
     "iopub.status.idle": "2022-08-01T04:29:23.177498Z",
     "shell.execute_reply": "2022-08-01T04:29:23.176583Z"
    },
    "id": "dsunkotjaJ0m",
    "papermill": {
     "duration": 0.03145,
     "end_time": "2022-08-01T04:29:23.179846",
     "exception": false,
     "start_time": "2022-08-01T04:29:23.148396",
     "status": "completed"
    },
    "tags": []
   },
   "outputs": [],
   "source": [
    "#Storing the dataframe with name\n",
    "feature1 = pd.DataFrame(feature_array, columns = feature_label)"
   ]
  },
  {
   "cell_type": "markdown",
   "id": "2502521d",
   "metadata": {
    "id": "LXpeREzLalED",
    "papermill": {
     "duration": 0.021164,
     "end_time": "2022-08-01T04:29:23.222232",
     "exception": false,
     "start_time": "2022-08-01T04:29:23.201068",
     "status": "completed"
    },
    "tags": []
   },
   "source": [
    "Repeating the same steps of OneHotEncoding for columns work_type and smoking_status"
   ]
  },
  {
   "cell_type": "code",
   "execution_count": 26,
   "id": "55866112",
   "metadata": {
    "execution": {
     "iopub.execute_input": "2022-08-01T04:29:23.267280Z",
     "iopub.status.busy": "2022-08-01T04:29:23.266655Z",
     "iopub.status.idle": "2022-08-01T04:29:23.274265Z",
     "shell.execute_reply": "2022-08-01T04:29:23.273154Z"
    },
    "id": "nc4Reg1mabw3",
    "outputId": "e8ecb394-ebe3-4283-c9f8-343035b34352",
    "papermill": {
     "duration": 0.032683,
     "end_time": "2022-08-01T04:29:23.276442",
     "exception": false,
     "start_time": "2022-08-01T04:29:23.243759",
     "status": "completed"
    },
    "tags": []
   },
   "outputs": [
    {
     "data": {
      "text/plain": [
       "array(['formerly smoked', 'never smoked', 'smokes', 'Unknown'],\n",
       "      dtype=object)"
      ]
     },
     "execution_count": 26,
     "metadata": {},
     "output_type": "execute_result"
    }
   ],
   "source": [
    "x['smoking_status'].unique()"
   ]
  },
  {
   "cell_type": "code",
   "execution_count": 27,
   "id": "b0f959af",
   "metadata": {
    "execution": {
     "iopub.execute_input": "2022-08-01T04:29:23.321415Z",
     "iopub.status.busy": "2022-08-01T04:29:23.320800Z",
     "iopub.status.idle": "2022-08-01T04:29:23.332415Z",
     "shell.execute_reply": "2022-08-01T04:29:23.331326Z"
    },
    "id": "GalSPznPaXXL",
    "outputId": "793de8f7-360d-48cb-f304-d7c4f4092a9a",
    "papermill": {
     "duration": 0.036896,
     "end_time": "2022-08-01T04:29:23.334576",
     "exception": false,
     "start_time": "2022-08-01T04:29:23.297680",
     "status": "completed"
    },
    "tags": []
   },
   "outputs": [
    {
     "data": {
      "text/plain": [
       "array([[0., 1., 0., 0.],\n",
       "       [0., 0., 1., 0.],\n",
       "       [0., 0., 1., 0.],\n",
       "       ...,\n",
       "       [0., 0., 1., 0.],\n",
       "       [0., 1., 0., 0.],\n",
       "       [1., 0., 0., 0.]])"
      ]
     },
     "execution_count": 27,
     "metadata": {},
     "output_type": "execute_result"
    }
   ],
   "source": [
    "ohe.fit_transform(x[['smoking_status']]).toarray()"
   ]
  },
  {
   "cell_type": "code",
   "execution_count": 28,
   "id": "8c8f5905",
   "metadata": {
    "execution": {
     "iopub.execute_input": "2022-08-01T04:29:23.379481Z",
     "iopub.status.busy": "2022-08-01T04:29:23.379033Z",
     "iopub.status.idle": "2022-08-01T04:29:23.387858Z",
     "shell.execute_reply": "2022-08-01T04:29:23.387011Z"
    },
    "id": "MC2IafddaZIt",
    "papermill": {
     "duration": 0.034114,
     "end_time": "2022-08-01T04:29:23.390149",
     "exception": false,
     "start_time": "2022-08-01T04:29:23.356035",
     "status": "completed"
    },
    "tags": []
   },
   "outputs": [],
   "source": [
    "feature_array1 = ohe.fit_transform(x[['smoking_status']]).toarray()"
   ]
  },
  {
   "cell_type": "code",
   "execution_count": 29,
   "id": "ac1afd01",
   "metadata": {
    "execution": {
     "iopub.execute_input": "2022-08-01T04:29:23.435352Z",
     "iopub.status.busy": "2022-08-01T04:29:23.434742Z",
     "iopub.status.idle": "2022-08-01T04:29:23.441242Z",
     "shell.execute_reply": "2022-08-01T04:29:23.440327Z"
    },
    "id": "GtlHuWbrbsNW",
    "outputId": "a75c03ad-237b-46fb-ec0f-8618a803d306",
    "papermill": {
     "duration": 0.0315,
     "end_time": "2022-08-01T04:29:23.443374",
     "exception": false,
     "start_time": "2022-08-01T04:29:23.411874",
     "status": "completed"
    },
    "tags": []
   },
   "outputs": [
    {
     "data": {
      "text/plain": [
       "[array(['Unknown', 'formerly smoked', 'never smoked', 'smokes'],\n",
       "       dtype=object)]"
      ]
     },
     "execution_count": 29,
     "metadata": {},
     "output_type": "execute_result"
    }
   ],
   "source": [
    "ohe.categories_"
   ]
  },
  {
   "cell_type": "code",
   "execution_count": 30,
   "id": "764c2b8f",
   "metadata": {
    "execution": {
     "iopub.execute_input": "2022-08-01T04:29:23.488652Z",
     "iopub.status.busy": "2022-08-01T04:29:23.487981Z",
     "iopub.status.idle": "2022-08-01T04:29:23.492770Z",
     "shell.execute_reply": "2022-08-01T04:29:23.492035Z"
    },
    "id": "7V0wknKCbzqk",
    "papermill": {
     "duration": 0.029967,
     "end_time": "2022-08-01T04:29:23.494878",
     "exception": false,
     "start_time": "2022-08-01T04:29:23.464911",
     "status": "completed"
    },
    "tags": []
   },
   "outputs": [],
   "source": [
    "feature_label1 = ohe.categories_"
   ]
  },
  {
   "cell_type": "code",
   "execution_count": 31,
   "id": "80ea43eb",
   "metadata": {
    "execution": {
     "iopub.execute_input": "2022-08-01T04:29:23.540333Z",
     "iopub.status.busy": "2022-08-01T04:29:23.539616Z",
     "iopub.status.idle": "2022-08-01T04:29:23.545648Z",
     "shell.execute_reply": "2022-08-01T04:29:23.544640Z"
    },
    "id": "vXVlDMr_b5Vw",
    "papermill": {
     "duration": 0.031634,
     "end_time": "2022-08-01T04:29:23.548092",
     "exception": false,
     "start_time": "2022-08-01T04:29:23.516458",
     "status": "completed"
    },
    "tags": []
   },
   "outputs": [],
   "source": [
    "#combining the column values and the column names and creating a dataframe\n",
    "feature2 = pd.DataFrame(feature_array1, columns = feature_label1)"
   ]
  },
  {
   "cell_type": "code",
   "execution_count": 32,
   "id": "fdd94268",
   "metadata": {
    "execution": {
     "iopub.execute_input": "2022-08-01T04:29:23.593210Z",
     "iopub.status.busy": "2022-08-01T04:29:23.592846Z",
     "iopub.status.idle": "2022-08-01T04:29:23.612241Z",
     "shell.execute_reply": "2022-08-01T04:29:23.611075Z"
    },
    "id": "jUMytqcecZdQ",
    "outputId": "ea733d0e-a656-4536-9c4b-33af2ec3c766",
    "papermill": {
     "duration": 0.044734,
     "end_time": "2022-08-01T04:29:23.614513",
     "exception": false,
     "start_time": "2022-08-01T04:29:23.569779",
     "status": "completed"
    },
    "tags": []
   },
   "outputs": [
    {
     "data": {
      "text/html": [
       "<div>\n",
       "<style scoped>\n",
       "    .dataframe tbody tr th:only-of-type {\n",
       "        vertical-align: middle;\n",
       "    }\n",
       "\n",
       "    .dataframe tbody tr th {\n",
       "        vertical-align: top;\n",
       "    }\n",
       "\n",
       "    .dataframe thead tr th {\n",
       "        text-align: left;\n",
       "    }\n",
       "</style>\n",
       "<table border=\"1\" class=\"dataframe\">\n",
       "  <thead>\n",
       "    <tr>\n",
       "      <th></th>\n",
       "      <th>Unknown</th>\n",
       "      <th>formerly smoked</th>\n",
       "      <th>never smoked</th>\n",
       "      <th>smokes</th>\n",
       "    </tr>\n",
       "  </thead>\n",
       "  <tbody>\n",
       "    <tr>\n",
       "      <th>0</th>\n",
       "      <td>0.0</td>\n",
       "      <td>1.0</td>\n",
       "      <td>0.0</td>\n",
       "      <td>0.0</td>\n",
       "    </tr>\n",
       "    <tr>\n",
       "      <th>1</th>\n",
       "      <td>0.0</td>\n",
       "      <td>0.0</td>\n",
       "      <td>1.0</td>\n",
       "      <td>0.0</td>\n",
       "    </tr>\n",
       "    <tr>\n",
       "      <th>2</th>\n",
       "      <td>0.0</td>\n",
       "      <td>0.0</td>\n",
       "      <td>1.0</td>\n",
       "      <td>0.0</td>\n",
       "    </tr>\n",
       "    <tr>\n",
       "      <th>3</th>\n",
       "      <td>0.0</td>\n",
       "      <td>0.0</td>\n",
       "      <td>0.0</td>\n",
       "      <td>1.0</td>\n",
       "    </tr>\n",
       "    <tr>\n",
       "      <th>4</th>\n",
       "      <td>0.0</td>\n",
       "      <td>0.0</td>\n",
       "      <td>1.0</td>\n",
       "      <td>0.0</td>\n",
       "    </tr>\n",
       "    <tr>\n",
       "      <th>...</th>\n",
       "      <td>...</td>\n",
       "      <td>...</td>\n",
       "      <td>...</td>\n",
       "      <td>...</td>\n",
       "    </tr>\n",
       "    <tr>\n",
       "      <th>5105</th>\n",
       "      <td>0.0</td>\n",
       "      <td>0.0</td>\n",
       "      <td>1.0</td>\n",
       "      <td>0.0</td>\n",
       "    </tr>\n",
       "    <tr>\n",
       "      <th>5106</th>\n",
       "      <td>0.0</td>\n",
       "      <td>0.0</td>\n",
       "      <td>1.0</td>\n",
       "      <td>0.0</td>\n",
       "    </tr>\n",
       "    <tr>\n",
       "      <th>5107</th>\n",
       "      <td>0.0</td>\n",
       "      <td>0.0</td>\n",
       "      <td>1.0</td>\n",
       "      <td>0.0</td>\n",
       "    </tr>\n",
       "    <tr>\n",
       "      <th>5108</th>\n",
       "      <td>0.0</td>\n",
       "      <td>1.0</td>\n",
       "      <td>0.0</td>\n",
       "      <td>0.0</td>\n",
       "    </tr>\n",
       "    <tr>\n",
       "      <th>5109</th>\n",
       "      <td>1.0</td>\n",
       "      <td>0.0</td>\n",
       "      <td>0.0</td>\n",
       "      <td>0.0</td>\n",
       "    </tr>\n",
       "  </tbody>\n",
       "</table>\n",
       "<p>5110 rows × 4 columns</p>\n",
       "</div>"
      ],
      "text/plain": [
       "     Unknown formerly smoked never smoked smokes\n",
       "0        0.0             1.0          0.0    0.0\n",
       "1        0.0             0.0          1.0    0.0\n",
       "2        0.0             0.0          1.0    0.0\n",
       "3        0.0             0.0          0.0    1.0\n",
       "4        0.0             0.0          1.0    0.0\n",
       "...      ...             ...          ...    ...\n",
       "5105     0.0             0.0          1.0    0.0\n",
       "5106     0.0             0.0          1.0    0.0\n",
       "5107     0.0             0.0          1.0    0.0\n",
       "5108     0.0             1.0          0.0    0.0\n",
       "5109     1.0             0.0          0.0    0.0\n",
       "\n",
       "[5110 rows x 4 columns]"
      ]
     },
     "execution_count": 32,
     "metadata": {},
     "output_type": "execute_result"
    }
   ],
   "source": [
    "feature2"
   ]
  },
  {
   "cell_type": "code",
   "execution_count": 33,
   "id": "80f25353",
   "metadata": {
    "execution": {
     "iopub.execute_input": "2022-08-01T04:29:23.661300Z",
     "iopub.status.busy": "2022-08-01T04:29:23.660593Z",
     "iopub.status.idle": "2022-08-01T04:29:23.667130Z",
     "shell.execute_reply": "2022-08-01T04:29:23.666400Z"
    },
    "id": "FVz3fL1gcaty",
    "outputId": "fb586a87-d558-4422-cf7d-00d2eab7f2de",
    "papermill": {
     "duration": 0.032054,
     "end_time": "2022-08-01T04:29:23.669138",
     "exception": false,
     "start_time": "2022-08-01T04:29:23.637084",
     "status": "completed"
    },
    "tags": []
   },
   "outputs": [
    {
     "data": {
      "text/plain": [
       "array(['Private', 'Self-employed', 'Govt_job', 'children', 'Never_worked'],\n",
       "      dtype=object)"
      ]
     },
     "execution_count": 33,
     "metadata": {},
     "output_type": "execute_result"
    }
   ],
   "source": [
    "x['work_type'].unique()"
   ]
  },
  {
   "cell_type": "code",
   "execution_count": 34,
   "id": "443ed026",
   "metadata": {
    "execution": {
     "iopub.execute_input": "2022-08-01T04:29:23.715419Z",
     "iopub.status.busy": "2022-08-01T04:29:23.714691Z",
     "iopub.status.idle": "2022-08-01T04:29:23.723447Z",
     "shell.execute_reply": "2022-08-01T04:29:23.722637Z"
    },
    "id": "OdYUjhKxcoC9",
    "papermill": {
     "duration": 0.034587,
     "end_time": "2022-08-01T04:29:23.725803",
     "exception": false,
     "start_time": "2022-08-01T04:29:23.691216",
     "status": "completed"
    },
    "tags": []
   },
   "outputs": [],
   "source": [
    "feature_array2 = ohe.fit_transform(x[['work_type']]).toarray()"
   ]
  },
  {
   "cell_type": "code",
   "execution_count": 35,
   "id": "e4c2373f",
   "metadata": {
    "execution": {
     "iopub.execute_input": "2022-08-01T04:29:23.772734Z",
     "iopub.status.busy": "2022-08-01T04:29:23.771986Z",
     "iopub.status.idle": "2022-08-01T04:29:23.778383Z",
     "shell.execute_reply": "2022-08-01T04:29:23.777417Z"
    },
    "id": "vQI_T3lHc5Ux",
    "outputId": "0755fd7a-c0f1-4321-94bf-1835c1db415d",
    "papermill": {
     "duration": 0.032092,
     "end_time": "2022-08-01T04:29:23.780500",
     "exception": false,
     "start_time": "2022-08-01T04:29:23.748408",
     "status": "completed"
    },
    "tags": []
   },
   "outputs": [
    {
     "data": {
      "text/plain": [
       "array([[0., 0., 1., 0., 0.],\n",
       "       [0., 0., 0., 1., 0.],\n",
       "       [0., 0., 1., 0., 0.],\n",
       "       ...,\n",
       "       [0., 0., 0., 1., 0.],\n",
       "       [0., 0., 1., 0., 0.],\n",
       "       [1., 0., 0., 0., 0.]])"
      ]
     },
     "execution_count": 35,
     "metadata": {},
     "output_type": "execute_result"
    }
   ],
   "source": [
    "feature_array2"
   ]
  },
  {
   "cell_type": "code",
   "execution_count": 36,
   "id": "468ad2d5",
   "metadata": {
    "execution": {
     "iopub.execute_input": "2022-08-01T04:29:23.826755Z",
     "iopub.status.busy": "2022-08-01T04:29:23.826373Z",
     "iopub.status.idle": "2022-08-01T04:29:23.831149Z",
     "shell.execute_reply": "2022-08-01T04:29:23.829950Z"
    },
    "id": "UZvyG_2Sc7B3",
    "papermill": {
     "duration": 0.030974,
     "end_time": "2022-08-01T04:29:23.833729",
     "exception": false,
     "start_time": "2022-08-01T04:29:23.802755",
     "status": "completed"
    },
    "tags": []
   },
   "outputs": [],
   "source": [
    "feature_label2 = ohe.categories_"
   ]
  },
  {
   "cell_type": "code",
   "execution_count": 37,
   "id": "e8577bee",
   "metadata": {
    "execution": {
     "iopub.execute_input": "2022-08-01T04:29:23.880602Z",
     "iopub.status.busy": "2022-08-01T04:29:23.880148Z",
     "iopub.status.idle": "2022-08-01T04:29:23.886440Z",
     "shell.execute_reply": "2022-08-01T04:29:23.885243Z"
    },
    "id": "qVhnjFTlc-up",
    "papermill": {
     "duration": 0.032258,
     "end_time": "2022-08-01T04:29:23.888691",
     "exception": false,
     "start_time": "2022-08-01T04:29:23.856433",
     "status": "completed"
    },
    "tags": []
   },
   "outputs": [],
   "source": [
    "#combining values and column names+converting them to a dataframe\n",
    "feature3 = pd.DataFrame(feature_array2, columns = feature_label2)"
   ]
  },
  {
   "cell_type": "code",
   "execution_count": 38,
   "id": "e52aa481",
   "metadata": {
    "execution": {
     "iopub.execute_input": "2022-08-01T04:29:23.935524Z",
     "iopub.status.busy": "2022-08-01T04:29:23.934716Z",
     "iopub.status.idle": "2022-08-01T04:29:23.956046Z",
     "shell.execute_reply": "2022-08-01T04:29:23.954942Z"
    },
    "id": "Umnro-2CdNZT",
    "outputId": "9070fa66-0c9a-48fd-8a9e-7aad80dc87f7",
    "papermill": {
     "duration": 0.047042,
     "end_time": "2022-08-01T04:29:23.958226",
     "exception": false,
     "start_time": "2022-08-01T04:29:23.911184",
     "status": "completed"
    },
    "tags": []
   },
   "outputs": [
    {
     "data": {
      "text/html": [
       "<div>\n",
       "<style scoped>\n",
       "    .dataframe tbody tr th:only-of-type {\n",
       "        vertical-align: middle;\n",
       "    }\n",
       "\n",
       "    .dataframe tbody tr th {\n",
       "        vertical-align: top;\n",
       "    }\n",
       "\n",
       "    .dataframe thead tr th {\n",
       "        text-align: left;\n",
       "    }\n",
       "</style>\n",
       "<table border=\"1\" class=\"dataframe\">\n",
       "  <thead>\n",
       "    <tr>\n",
       "      <th></th>\n",
       "      <th>Govt_job</th>\n",
       "      <th>Never_worked</th>\n",
       "      <th>Private</th>\n",
       "      <th>Self-employed</th>\n",
       "      <th>children</th>\n",
       "    </tr>\n",
       "  </thead>\n",
       "  <tbody>\n",
       "    <tr>\n",
       "      <th>0</th>\n",
       "      <td>0.0</td>\n",
       "      <td>0.0</td>\n",
       "      <td>1.0</td>\n",
       "      <td>0.0</td>\n",
       "      <td>0.0</td>\n",
       "    </tr>\n",
       "    <tr>\n",
       "      <th>1</th>\n",
       "      <td>0.0</td>\n",
       "      <td>0.0</td>\n",
       "      <td>0.0</td>\n",
       "      <td>1.0</td>\n",
       "      <td>0.0</td>\n",
       "    </tr>\n",
       "    <tr>\n",
       "      <th>2</th>\n",
       "      <td>0.0</td>\n",
       "      <td>0.0</td>\n",
       "      <td>1.0</td>\n",
       "      <td>0.0</td>\n",
       "      <td>0.0</td>\n",
       "    </tr>\n",
       "    <tr>\n",
       "      <th>3</th>\n",
       "      <td>0.0</td>\n",
       "      <td>0.0</td>\n",
       "      <td>1.0</td>\n",
       "      <td>0.0</td>\n",
       "      <td>0.0</td>\n",
       "    </tr>\n",
       "    <tr>\n",
       "      <th>4</th>\n",
       "      <td>0.0</td>\n",
       "      <td>0.0</td>\n",
       "      <td>0.0</td>\n",
       "      <td>1.0</td>\n",
       "      <td>0.0</td>\n",
       "    </tr>\n",
       "    <tr>\n",
       "      <th>...</th>\n",
       "      <td>...</td>\n",
       "      <td>...</td>\n",
       "      <td>...</td>\n",
       "      <td>...</td>\n",
       "      <td>...</td>\n",
       "    </tr>\n",
       "    <tr>\n",
       "      <th>5105</th>\n",
       "      <td>0.0</td>\n",
       "      <td>0.0</td>\n",
       "      <td>1.0</td>\n",
       "      <td>0.0</td>\n",
       "      <td>0.0</td>\n",
       "    </tr>\n",
       "    <tr>\n",
       "      <th>5106</th>\n",
       "      <td>0.0</td>\n",
       "      <td>0.0</td>\n",
       "      <td>0.0</td>\n",
       "      <td>1.0</td>\n",
       "      <td>0.0</td>\n",
       "    </tr>\n",
       "    <tr>\n",
       "      <th>5107</th>\n",
       "      <td>0.0</td>\n",
       "      <td>0.0</td>\n",
       "      <td>0.0</td>\n",
       "      <td>1.0</td>\n",
       "      <td>0.0</td>\n",
       "    </tr>\n",
       "    <tr>\n",
       "      <th>5108</th>\n",
       "      <td>0.0</td>\n",
       "      <td>0.0</td>\n",
       "      <td>1.0</td>\n",
       "      <td>0.0</td>\n",
       "      <td>0.0</td>\n",
       "    </tr>\n",
       "    <tr>\n",
       "      <th>5109</th>\n",
       "      <td>1.0</td>\n",
       "      <td>0.0</td>\n",
       "      <td>0.0</td>\n",
       "      <td>0.0</td>\n",
       "      <td>0.0</td>\n",
       "    </tr>\n",
       "  </tbody>\n",
       "</table>\n",
       "<p>5110 rows × 5 columns</p>\n",
       "</div>"
      ],
      "text/plain": [
       "     Govt_job Never_worked Private Self-employed children\n",
       "0         0.0          0.0     1.0           0.0      0.0\n",
       "1         0.0          0.0     0.0           1.0      0.0\n",
       "2         0.0          0.0     1.0           0.0      0.0\n",
       "3         0.0          0.0     1.0           0.0      0.0\n",
       "4         0.0          0.0     0.0           1.0      0.0\n",
       "...       ...          ...     ...           ...      ...\n",
       "5105      0.0          0.0     1.0           0.0      0.0\n",
       "5106      0.0          0.0     0.0           1.0      0.0\n",
       "5107      0.0          0.0     0.0           1.0      0.0\n",
       "5108      0.0          0.0     1.0           0.0      0.0\n",
       "5109      1.0          0.0     0.0           0.0      0.0\n",
       "\n",
       "[5110 rows x 5 columns]"
      ]
     },
     "execution_count": 38,
     "metadata": {},
     "output_type": "execute_result"
    }
   ],
   "source": [
    "feature3"
   ]
  },
  {
   "cell_type": "markdown",
   "id": "fd2eb43e",
   "metadata": {
    "papermill": {
     "duration": 0.022172,
     "end_time": "2022-08-01T04:29:24.002910",
     "exception": false,
     "start_time": "2022-08-01T04:29:23.980738",
     "status": "completed"
    },
    "tags": []
   },
   "source": [
    "Now dropping the original columns in which one hot encoding was done and concatenating the converted dataframes into a new one."
   ]
  },
  {
   "cell_type": "code",
   "execution_count": 39,
   "id": "9b882f16",
   "metadata": {
    "execution": {
     "iopub.execute_input": "2022-08-01T04:29:24.050187Z",
     "iopub.status.busy": "2022-08-01T04:29:24.049797Z",
     "iopub.status.idle": "2022-08-01T04:29:24.056032Z",
     "shell.execute_reply": "2022-08-01T04:29:24.054956Z"
    },
    "id": "R4CNyrXLfVFj",
    "papermill": {
     "duration": 0.032826,
     "end_time": "2022-08-01T04:29:24.058287",
     "exception": false,
     "start_time": "2022-08-01T04:29:24.025461",
     "status": "completed"
    },
    "tags": []
   },
   "outputs": [],
   "source": [
    "x = x.drop(['work_type','gender','smoking_status'], axis = 1)"
   ]
  },
  {
   "cell_type": "code",
   "execution_count": 40,
   "id": "7febeddd",
   "metadata": {
    "execution": {
     "iopub.execute_input": "2022-08-01T04:29:24.105466Z",
     "iopub.status.busy": "2022-08-01T04:29:24.105047Z",
     "iopub.status.idle": "2022-08-01T04:29:24.124113Z",
     "shell.execute_reply": "2022-08-01T04:29:24.123006Z"
    },
    "papermill": {
     "duration": 0.04559,
     "end_time": "2022-08-01T04:29:24.126457",
     "exception": false,
     "start_time": "2022-08-01T04:29:24.080867",
     "status": "completed"
    },
    "tags": []
   },
   "outputs": [
    {
     "data": {
      "text/html": [
       "<div>\n",
       "<style scoped>\n",
       "    .dataframe tbody tr th:only-of-type {\n",
       "        vertical-align: middle;\n",
       "    }\n",
       "\n",
       "    .dataframe tbody tr th {\n",
       "        vertical-align: top;\n",
       "    }\n",
       "\n",
       "    .dataframe thead th {\n",
       "        text-align: right;\n",
       "    }\n",
       "</style>\n",
       "<table border=\"1\" class=\"dataframe\">\n",
       "  <thead>\n",
       "    <tr style=\"text-align: right;\">\n",
       "      <th></th>\n",
       "      <th>age</th>\n",
       "      <th>hypertension</th>\n",
       "      <th>heart_disease</th>\n",
       "      <th>ever_married</th>\n",
       "      <th>Residence_type</th>\n",
       "      <th>avg_glucose_level</th>\n",
       "      <th>bmi</th>\n",
       "    </tr>\n",
       "  </thead>\n",
       "  <tbody>\n",
       "    <tr>\n",
       "      <th>0</th>\n",
       "      <td>67.0</td>\n",
       "      <td>0</td>\n",
       "      <td>1</td>\n",
       "      <td>1</td>\n",
       "      <td>1</td>\n",
       "      <td>228.69</td>\n",
       "      <td>36.6</td>\n",
       "    </tr>\n",
       "    <tr>\n",
       "      <th>1</th>\n",
       "      <td>61.0</td>\n",
       "      <td>0</td>\n",
       "      <td>0</td>\n",
       "      <td>1</td>\n",
       "      <td>0</td>\n",
       "      <td>202.21</td>\n",
       "      <td>NaN</td>\n",
       "    </tr>\n",
       "    <tr>\n",
       "      <th>2</th>\n",
       "      <td>80.0</td>\n",
       "      <td>0</td>\n",
       "      <td>1</td>\n",
       "      <td>1</td>\n",
       "      <td>0</td>\n",
       "      <td>105.92</td>\n",
       "      <td>32.5</td>\n",
       "    </tr>\n",
       "    <tr>\n",
       "      <th>3</th>\n",
       "      <td>49.0</td>\n",
       "      <td>0</td>\n",
       "      <td>0</td>\n",
       "      <td>1</td>\n",
       "      <td>1</td>\n",
       "      <td>171.23</td>\n",
       "      <td>34.4</td>\n",
       "    </tr>\n",
       "    <tr>\n",
       "      <th>4</th>\n",
       "      <td>79.0</td>\n",
       "      <td>1</td>\n",
       "      <td>0</td>\n",
       "      <td>1</td>\n",
       "      <td>0</td>\n",
       "      <td>174.12</td>\n",
       "      <td>24.0</td>\n",
       "    </tr>\n",
       "    <tr>\n",
       "      <th>...</th>\n",
       "      <td>...</td>\n",
       "      <td>...</td>\n",
       "      <td>...</td>\n",
       "      <td>...</td>\n",
       "      <td>...</td>\n",
       "      <td>...</td>\n",
       "      <td>...</td>\n",
       "    </tr>\n",
       "    <tr>\n",
       "      <th>5105</th>\n",
       "      <td>80.0</td>\n",
       "      <td>1</td>\n",
       "      <td>0</td>\n",
       "      <td>1</td>\n",
       "      <td>1</td>\n",
       "      <td>83.75</td>\n",
       "      <td>NaN</td>\n",
       "    </tr>\n",
       "    <tr>\n",
       "      <th>5106</th>\n",
       "      <td>81.0</td>\n",
       "      <td>0</td>\n",
       "      <td>0</td>\n",
       "      <td>1</td>\n",
       "      <td>1</td>\n",
       "      <td>125.20</td>\n",
       "      <td>40.0</td>\n",
       "    </tr>\n",
       "    <tr>\n",
       "      <th>5107</th>\n",
       "      <td>35.0</td>\n",
       "      <td>0</td>\n",
       "      <td>0</td>\n",
       "      <td>1</td>\n",
       "      <td>0</td>\n",
       "      <td>82.99</td>\n",
       "      <td>30.6</td>\n",
       "    </tr>\n",
       "    <tr>\n",
       "      <th>5108</th>\n",
       "      <td>51.0</td>\n",
       "      <td>0</td>\n",
       "      <td>0</td>\n",
       "      <td>1</td>\n",
       "      <td>0</td>\n",
       "      <td>166.29</td>\n",
       "      <td>25.6</td>\n",
       "    </tr>\n",
       "    <tr>\n",
       "      <th>5109</th>\n",
       "      <td>44.0</td>\n",
       "      <td>0</td>\n",
       "      <td>0</td>\n",
       "      <td>1</td>\n",
       "      <td>1</td>\n",
       "      <td>85.28</td>\n",
       "      <td>26.2</td>\n",
       "    </tr>\n",
       "  </tbody>\n",
       "</table>\n",
       "<p>5110 rows × 7 columns</p>\n",
       "</div>"
      ],
      "text/plain": [
       "       age  hypertension  heart_disease  ever_married  Residence_type  \\\n",
       "0     67.0             0              1             1               1   \n",
       "1     61.0             0              0             1               0   \n",
       "2     80.0             0              1             1               0   \n",
       "3     49.0             0              0             1               1   \n",
       "4     79.0             1              0             1               0   \n",
       "...    ...           ...            ...           ...             ...   \n",
       "5105  80.0             1              0             1               1   \n",
       "5106  81.0             0              0             1               1   \n",
       "5107  35.0             0              0             1               0   \n",
       "5108  51.0             0              0             1               0   \n",
       "5109  44.0             0              0             1               1   \n",
       "\n",
       "      avg_glucose_level   bmi  \n",
       "0                228.69  36.6  \n",
       "1                202.21   NaN  \n",
       "2                105.92  32.5  \n",
       "3                171.23  34.4  \n",
       "4                174.12  24.0  \n",
       "...                 ...   ...  \n",
       "5105              83.75   NaN  \n",
       "5106             125.20  40.0  \n",
       "5107              82.99  30.6  \n",
       "5108             166.29  25.6  \n",
       "5109              85.28  26.2  \n",
       "\n",
       "[5110 rows x 7 columns]"
      ]
     },
     "execution_count": 40,
     "metadata": {},
     "output_type": "execute_result"
    }
   ],
   "source": [
    "x"
   ]
  },
  {
   "cell_type": "code",
   "execution_count": 41,
   "id": "d96dd3f9",
   "metadata": {
    "execution": {
     "iopub.execute_input": "2022-08-01T04:29:24.174721Z",
     "iopub.status.busy": "2022-08-01T04:29:24.173388Z",
     "iopub.status.idle": "2022-08-01T04:29:24.217756Z",
     "shell.execute_reply": "2022-08-01T04:29:24.216671Z"
    },
    "papermill": {
     "duration": 0.071279,
     "end_time": "2022-08-01T04:29:24.220508",
     "exception": false,
     "start_time": "2022-08-01T04:29:24.149229",
     "status": "completed"
    },
    "tags": []
   },
   "outputs": [
    {
     "data": {
      "text/html": [
       "<div>\n",
       "<style scoped>\n",
       "    .dataframe tbody tr th:only-of-type {\n",
       "        vertical-align: middle;\n",
       "    }\n",
       "\n",
       "    .dataframe tbody tr th {\n",
       "        vertical-align: top;\n",
       "    }\n",
       "\n",
       "    .dataframe thead th {\n",
       "        text-align: right;\n",
       "    }\n",
       "</style>\n",
       "<table border=\"1\" class=\"dataframe\">\n",
       "  <thead>\n",
       "    <tr style=\"text-align: right;\">\n",
       "      <th></th>\n",
       "      <th>age</th>\n",
       "      <th>hypertension</th>\n",
       "      <th>heart_disease</th>\n",
       "      <th>ever_married</th>\n",
       "      <th>Residence_type</th>\n",
       "      <th>avg_glucose_level</th>\n",
       "      <th>bmi</th>\n",
       "      <th>(Female,)</th>\n",
       "      <th>(Male,)</th>\n",
       "      <th>(Other,)</th>\n",
       "      <th>(Unknown,)</th>\n",
       "      <th>(formerly smoked,)</th>\n",
       "      <th>(never smoked,)</th>\n",
       "      <th>(smokes,)</th>\n",
       "      <th>(Govt_job,)</th>\n",
       "      <th>(Never_worked,)</th>\n",
       "      <th>(Private,)</th>\n",
       "      <th>(Self-employed,)</th>\n",
       "      <th>(children,)</th>\n",
       "    </tr>\n",
       "  </thead>\n",
       "  <tbody>\n",
       "    <tr>\n",
       "      <th>0</th>\n",
       "      <td>67.0</td>\n",
       "      <td>0</td>\n",
       "      <td>1</td>\n",
       "      <td>1</td>\n",
       "      <td>1</td>\n",
       "      <td>228.69</td>\n",
       "      <td>36.6</td>\n",
       "      <td>0.0</td>\n",
       "      <td>1.0</td>\n",
       "      <td>0.0</td>\n",
       "      <td>0.0</td>\n",
       "      <td>1.0</td>\n",
       "      <td>0.0</td>\n",
       "      <td>0.0</td>\n",
       "      <td>0.0</td>\n",
       "      <td>0.0</td>\n",
       "      <td>1.0</td>\n",
       "      <td>0.0</td>\n",
       "      <td>0.0</td>\n",
       "    </tr>\n",
       "    <tr>\n",
       "      <th>1</th>\n",
       "      <td>61.0</td>\n",
       "      <td>0</td>\n",
       "      <td>0</td>\n",
       "      <td>1</td>\n",
       "      <td>0</td>\n",
       "      <td>202.21</td>\n",
       "      <td>NaN</td>\n",
       "      <td>1.0</td>\n",
       "      <td>0.0</td>\n",
       "      <td>0.0</td>\n",
       "      <td>0.0</td>\n",
       "      <td>0.0</td>\n",
       "      <td>1.0</td>\n",
       "      <td>0.0</td>\n",
       "      <td>0.0</td>\n",
       "      <td>0.0</td>\n",
       "      <td>0.0</td>\n",
       "      <td>1.0</td>\n",
       "      <td>0.0</td>\n",
       "    </tr>\n",
       "    <tr>\n",
       "      <th>2</th>\n",
       "      <td>80.0</td>\n",
       "      <td>0</td>\n",
       "      <td>1</td>\n",
       "      <td>1</td>\n",
       "      <td>0</td>\n",
       "      <td>105.92</td>\n",
       "      <td>32.5</td>\n",
       "      <td>0.0</td>\n",
       "      <td>1.0</td>\n",
       "      <td>0.0</td>\n",
       "      <td>0.0</td>\n",
       "      <td>0.0</td>\n",
       "      <td>1.0</td>\n",
       "      <td>0.0</td>\n",
       "      <td>0.0</td>\n",
       "      <td>0.0</td>\n",
       "      <td>1.0</td>\n",
       "      <td>0.0</td>\n",
       "      <td>0.0</td>\n",
       "    </tr>\n",
       "    <tr>\n",
       "      <th>3</th>\n",
       "      <td>49.0</td>\n",
       "      <td>0</td>\n",
       "      <td>0</td>\n",
       "      <td>1</td>\n",
       "      <td>1</td>\n",
       "      <td>171.23</td>\n",
       "      <td>34.4</td>\n",
       "      <td>1.0</td>\n",
       "      <td>0.0</td>\n",
       "      <td>0.0</td>\n",
       "      <td>0.0</td>\n",
       "      <td>0.0</td>\n",
       "      <td>0.0</td>\n",
       "      <td>1.0</td>\n",
       "      <td>0.0</td>\n",
       "      <td>0.0</td>\n",
       "      <td>1.0</td>\n",
       "      <td>0.0</td>\n",
       "      <td>0.0</td>\n",
       "    </tr>\n",
       "    <tr>\n",
       "      <th>4</th>\n",
       "      <td>79.0</td>\n",
       "      <td>1</td>\n",
       "      <td>0</td>\n",
       "      <td>1</td>\n",
       "      <td>0</td>\n",
       "      <td>174.12</td>\n",
       "      <td>24.0</td>\n",
       "      <td>1.0</td>\n",
       "      <td>0.0</td>\n",
       "      <td>0.0</td>\n",
       "      <td>0.0</td>\n",
       "      <td>0.0</td>\n",
       "      <td>1.0</td>\n",
       "      <td>0.0</td>\n",
       "      <td>0.0</td>\n",
       "      <td>0.0</td>\n",
       "      <td>0.0</td>\n",
       "      <td>1.0</td>\n",
       "      <td>0.0</td>\n",
       "    </tr>\n",
       "    <tr>\n",
       "      <th>...</th>\n",
       "      <td>...</td>\n",
       "      <td>...</td>\n",
       "      <td>...</td>\n",
       "      <td>...</td>\n",
       "      <td>...</td>\n",
       "      <td>...</td>\n",
       "      <td>...</td>\n",
       "      <td>...</td>\n",
       "      <td>...</td>\n",
       "      <td>...</td>\n",
       "      <td>...</td>\n",
       "      <td>...</td>\n",
       "      <td>...</td>\n",
       "      <td>...</td>\n",
       "      <td>...</td>\n",
       "      <td>...</td>\n",
       "      <td>...</td>\n",
       "      <td>...</td>\n",
       "      <td>...</td>\n",
       "    </tr>\n",
       "    <tr>\n",
       "      <th>5105</th>\n",
       "      <td>80.0</td>\n",
       "      <td>1</td>\n",
       "      <td>0</td>\n",
       "      <td>1</td>\n",
       "      <td>1</td>\n",
       "      <td>83.75</td>\n",
       "      <td>NaN</td>\n",
       "      <td>1.0</td>\n",
       "      <td>0.0</td>\n",
       "      <td>0.0</td>\n",
       "      <td>0.0</td>\n",
       "      <td>0.0</td>\n",
       "      <td>1.0</td>\n",
       "      <td>0.0</td>\n",
       "      <td>0.0</td>\n",
       "      <td>0.0</td>\n",
       "      <td>1.0</td>\n",
       "      <td>0.0</td>\n",
       "      <td>0.0</td>\n",
       "    </tr>\n",
       "    <tr>\n",
       "      <th>5106</th>\n",
       "      <td>81.0</td>\n",
       "      <td>0</td>\n",
       "      <td>0</td>\n",
       "      <td>1</td>\n",
       "      <td>1</td>\n",
       "      <td>125.20</td>\n",
       "      <td>40.0</td>\n",
       "      <td>1.0</td>\n",
       "      <td>0.0</td>\n",
       "      <td>0.0</td>\n",
       "      <td>0.0</td>\n",
       "      <td>0.0</td>\n",
       "      <td>1.0</td>\n",
       "      <td>0.0</td>\n",
       "      <td>0.0</td>\n",
       "      <td>0.0</td>\n",
       "      <td>0.0</td>\n",
       "      <td>1.0</td>\n",
       "      <td>0.0</td>\n",
       "    </tr>\n",
       "    <tr>\n",
       "      <th>5107</th>\n",
       "      <td>35.0</td>\n",
       "      <td>0</td>\n",
       "      <td>0</td>\n",
       "      <td>1</td>\n",
       "      <td>0</td>\n",
       "      <td>82.99</td>\n",
       "      <td>30.6</td>\n",
       "      <td>1.0</td>\n",
       "      <td>0.0</td>\n",
       "      <td>0.0</td>\n",
       "      <td>0.0</td>\n",
       "      <td>0.0</td>\n",
       "      <td>1.0</td>\n",
       "      <td>0.0</td>\n",
       "      <td>0.0</td>\n",
       "      <td>0.0</td>\n",
       "      <td>0.0</td>\n",
       "      <td>1.0</td>\n",
       "      <td>0.0</td>\n",
       "    </tr>\n",
       "    <tr>\n",
       "      <th>5108</th>\n",
       "      <td>51.0</td>\n",
       "      <td>0</td>\n",
       "      <td>0</td>\n",
       "      <td>1</td>\n",
       "      <td>0</td>\n",
       "      <td>166.29</td>\n",
       "      <td>25.6</td>\n",
       "      <td>0.0</td>\n",
       "      <td>1.0</td>\n",
       "      <td>0.0</td>\n",
       "      <td>0.0</td>\n",
       "      <td>1.0</td>\n",
       "      <td>0.0</td>\n",
       "      <td>0.0</td>\n",
       "      <td>0.0</td>\n",
       "      <td>0.0</td>\n",
       "      <td>1.0</td>\n",
       "      <td>0.0</td>\n",
       "      <td>0.0</td>\n",
       "    </tr>\n",
       "    <tr>\n",
       "      <th>5109</th>\n",
       "      <td>44.0</td>\n",
       "      <td>0</td>\n",
       "      <td>0</td>\n",
       "      <td>1</td>\n",
       "      <td>1</td>\n",
       "      <td>85.28</td>\n",
       "      <td>26.2</td>\n",
       "      <td>1.0</td>\n",
       "      <td>0.0</td>\n",
       "      <td>0.0</td>\n",
       "      <td>1.0</td>\n",
       "      <td>0.0</td>\n",
       "      <td>0.0</td>\n",
       "      <td>0.0</td>\n",
       "      <td>1.0</td>\n",
       "      <td>0.0</td>\n",
       "      <td>0.0</td>\n",
       "      <td>0.0</td>\n",
       "      <td>0.0</td>\n",
       "    </tr>\n",
       "  </tbody>\n",
       "</table>\n",
       "<p>5110 rows × 19 columns</p>\n",
       "</div>"
      ],
      "text/plain": [
       "       age  hypertension  heart_disease  ever_married  Residence_type  \\\n",
       "0     67.0             0              1             1               1   \n",
       "1     61.0             0              0             1               0   \n",
       "2     80.0             0              1             1               0   \n",
       "3     49.0             0              0             1               1   \n",
       "4     79.0             1              0             1               0   \n",
       "...    ...           ...            ...           ...             ...   \n",
       "5105  80.0             1              0             1               1   \n",
       "5106  81.0             0              0             1               1   \n",
       "5107  35.0             0              0             1               0   \n",
       "5108  51.0             0              0             1               0   \n",
       "5109  44.0             0              0             1               1   \n",
       "\n",
       "      avg_glucose_level   bmi  (Female,)  (Male,)  (Other,)  (Unknown,)  \\\n",
       "0                228.69  36.6        0.0      1.0       0.0         0.0   \n",
       "1                202.21   NaN        1.0      0.0       0.0         0.0   \n",
       "2                105.92  32.5        0.0      1.0       0.0         0.0   \n",
       "3                171.23  34.4        1.0      0.0       0.0         0.0   \n",
       "4                174.12  24.0        1.0      0.0       0.0         0.0   \n",
       "...                 ...   ...        ...      ...       ...         ...   \n",
       "5105              83.75   NaN        1.0      0.0       0.0         0.0   \n",
       "5106             125.20  40.0        1.0      0.0       0.0         0.0   \n",
       "5107              82.99  30.6        1.0      0.0       0.0         0.0   \n",
       "5108             166.29  25.6        0.0      1.0       0.0         0.0   \n",
       "5109              85.28  26.2        1.0      0.0       0.0         1.0   \n",
       "\n",
       "      (formerly smoked,)  (never smoked,)  (smokes,)  (Govt_job,)  \\\n",
       "0                    1.0              0.0        0.0          0.0   \n",
       "1                    0.0              1.0        0.0          0.0   \n",
       "2                    0.0              1.0        0.0          0.0   \n",
       "3                    0.0              0.0        1.0          0.0   \n",
       "4                    0.0              1.0        0.0          0.0   \n",
       "...                  ...              ...        ...          ...   \n",
       "5105                 0.0              1.0        0.0          0.0   \n",
       "5106                 0.0              1.0        0.0          0.0   \n",
       "5107                 0.0              1.0        0.0          0.0   \n",
       "5108                 1.0              0.0        0.0          0.0   \n",
       "5109                 0.0              0.0        0.0          1.0   \n",
       "\n",
       "      (Never_worked,)  (Private,)  (Self-employed,)  (children,)  \n",
       "0                 0.0         1.0               0.0          0.0  \n",
       "1                 0.0         0.0               1.0          0.0  \n",
       "2                 0.0         1.0               0.0          0.0  \n",
       "3                 0.0         1.0               0.0          0.0  \n",
       "4                 0.0         0.0               1.0          0.0  \n",
       "...               ...         ...               ...          ...  \n",
       "5105              0.0         1.0               0.0          0.0  \n",
       "5106              0.0         0.0               1.0          0.0  \n",
       "5107              0.0         0.0               1.0          0.0  \n",
       "5108              0.0         1.0               0.0          0.0  \n",
       "5109              0.0         0.0               0.0          0.0  \n",
       "\n",
       "[5110 rows x 19 columns]"
      ]
     },
     "execution_count": 41,
     "metadata": {},
     "output_type": "execute_result"
    }
   ],
   "source": [
    "pd.concat([x,feature1,feature2,feature3], axis = 1)"
   ]
  },
  {
   "cell_type": "code",
   "execution_count": 42,
   "id": "a09fffc2",
   "metadata": {
    "execution": {
     "iopub.execute_input": "2022-08-01T04:29:24.269143Z",
     "iopub.status.busy": "2022-08-01T04:29:24.268731Z",
     "iopub.status.idle": "2022-08-01T04:29:24.275228Z",
     "shell.execute_reply": "2022-08-01T04:29:24.274498Z"
    },
    "papermill": {
     "duration": 0.033046,
     "end_time": "2022-08-01T04:29:24.277163",
     "exception": false,
     "start_time": "2022-08-01T04:29:24.244117",
     "status": "completed"
    },
    "tags": []
   },
   "outputs": [],
   "source": [
    "new_df = pd.concat([x,feature1,feature2,feature3], axis = 1)"
   ]
  },
  {
   "cell_type": "markdown",
   "id": "358ee5a4",
   "metadata": {
    "papermill": {
     "duration": 0.023675,
     "end_time": "2022-08-01T04:29:24.324219",
     "exception": false,
     "start_time": "2022-08-01T04:29:24.300544",
     "status": "completed"
    },
    "tags": []
   },
   "source": [
    "Checking correlation between the data"
   ]
  },
  {
   "cell_type": "code",
   "execution_count": 43,
   "id": "f3e0858c",
   "metadata": {
    "execution": {
     "iopub.execute_input": "2022-08-01T04:29:24.373396Z",
     "iopub.status.busy": "2022-08-01T04:29:24.372643Z",
     "iopub.status.idle": "2022-08-01T04:29:24.553099Z",
     "shell.execute_reply": "2022-08-01T04:29:24.551991Z"
    },
    "papermill": {
     "duration": 0.208003,
     "end_time": "2022-08-01T04:29:24.555855",
     "exception": false,
     "start_time": "2022-08-01T04:29:24.347852",
     "status": "completed"
    },
    "tags": []
   },
   "outputs": [],
   "source": [
    "import seaborn as sns\n",
    "import matplotlib.pyplot as plt"
   ]
  },
  {
   "cell_type": "code",
   "execution_count": 44,
   "id": "cf626a0d",
   "metadata": {
    "execution": {
     "iopub.execute_input": "2022-08-01T04:29:24.604419Z",
     "iopub.status.busy": "2022-08-01T04:29:24.603991Z",
     "iopub.status.idle": "2022-08-01T04:29:25.118255Z",
     "shell.execute_reply": "2022-08-01T04:29:25.117133Z"
    },
    "papermill": {
     "duration": 0.541241,
     "end_time": "2022-08-01T04:29:25.120689",
     "exception": false,
     "start_time": "2022-08-01T04:29:24.579448",
     "status": "completed"
    },
    "tags": []
   },
   "outputs": [
    {
     "data": {
      "text/plain": [
       "<AxesSubplot:>"
      ]
     },
     "execution_count": 44,
     "metadata": {},
     "output_type": "execute_result"
    },
    {
     "data": {
      "image/png": "[encoded data removed]",
      "text/plain": [
       "<Figure size 720x720 with 2 Axes>"
      ]
     },
     "metadata": {
      "needs_background": "light"
     },
     "output_type": "display_data"
    }
   ],
   "source": [
    "plt.figure(figsize = (10,10))\n",
    "data = x.corr()\n",
    "sns.heatmap(data, annot = True)"
   ]
  },
  {
   "cell_type": "markdown",
   "id": "ac1e887c",
   "metadata": {
    "papermill": {
     "duration": 0.025083,
     "end_time": "2022-08-01T04:29:25.170289",
     "exception": false,
     "start_time": "2022-08-01T04:29:25.145206",
     "status": "completed"
    },
    "tags": []
   },
   "source": [
    "Filling missing values with the mean of the column in the dataframe"
   ]
  },
  {
   "cell_type": "code",
   "execution_count": 45,
   "id": "3b6b5f7b",
   "metadata": {
    "execution": {
     "iopub.execute_input": "2022-08-01T04:29:25.221752Z",
     "iopub.status.busy": "2022-08-01T04:29:25.220823Z",
     "iopub.status.idle": "2022-08-01T04:29:25.226561Z",
     "shell.execute_reply": "2022-08-01T04:29:25.225305Z"
    },
    "papermill": {
     "duration": 0.033805,
     "end_time": "2022-08-01T04:29:25.228802",
     "exception": false,
     "start_time": "2022-08-01T04:29:25.194997",
     "status": "completed"
    },
    "tags": []
   },
   "outputs": [],
   "source": [
    "value = new_df['bmi'].mean()"
   ]
  },
  {
   "cell_type": "code",
   "execution_count": 46,
   "id": "b65204e3",
   "metadata": {
    "execution": {
     "iopub.execute_input": "2022-08-01T04:29:25.279859Z",
     "iopub.status.busy": "2022-08-01T04:29:25.279333Z",
     "iopub.status.idle": "2022-08-01T04:29:25.285609Z",
     "shell.execute_reply": "2022-08-01T04:29:25.284556Z"
    },
    "papermill": {
     "duration": 0.0344,
     "end_time": "2022-08-01T04:29:25.287686",
     "exception": false,
     "start_time": "2022-08-01T04:29:25.253286",
     "status": "completed"
    },
    "tags": []
   },
   "outputs": [],
   "source": [
    "new_df['bmi'].fillna(value = value, inplace = True)"
   ]
  },
  {
   "cell_type": "code",
   "execution_count": 47,
   "id": "be680f26",
   "metadata": {
    "execution": {
     "iopub.execute_input": "2022-08-01T04:29:25.338969Z",
     "iopub.status.busy": "2022-08-01T04:29:25.338212Z",
     "iopub.status.idle": "2022-08-01T04:29:25.349003Z",
     "shell.execute_reply": "2022-08-01T04:29:25.347979Z"
    },
    "papermill": {
     "duration": 0.038952,
     "end_time": "2022-08-01T04:29:25.351143",
     "exception": false,
     "start_time": "2022-08-01T04:29:25.312191",
     "status": "completed"
    },
    "tags": []
   },
   "outputs": [
    {
     "data": {
      "text/plain": [
       "age                   float64\n",
       "hypertension            int64\n",
       "heart_disease           int64\n",
       "ever_married            int64\n",
       "Residence_type          int64\n",
       "avg_glucose_level     float64\n",
       "bmi                   float64\n",
       "(Female,)             float64\n",
       "(Male,)               float64\n",
       "(Other,)              float64\n",
       "(Unknown,)            float64\n",
       "(formerly smoked,)    float64\n",
       "(never smoked,)       float64\n",
       "(smokes,)             float64\n",
       "(Govt_job,)           float64\n",
       "(Never_worked,)       float64\n",
       "(Private,)            float64\n",
       "(Self-employed,)      float64\n",
       "(children,)           float64\n",
       "dtype: object"
      ]
     },
     "execution_count": 47,
     "metadata": {},
     "output_type": "execute_result"
    }
   ],
   "source": [
    "new_df.dtypes"
   ]
  },
  {
   "cell_type": "code",
   "execution_count": 48,
   "id": "df5ea8ef",
   "metadata": {
    "execution": {
     "iopub.execute_input": "2022-08-01T04:29:25.401678Z",
     "iopub.status.busy": "2022-08-01T04:29:25.401269Z",
     "iopub.status.idle": "2022-08-01T04:29:25.413329Z",
     "shell.execute_reply": "2022-08-01T04:29:25.412276Z"
    },
    "papermill": {
     "duration": 0.039796,
     "end_time": "2022-08-01T04:29:25.415515",
     "exception": false,
     "start_time": "2022-08-01T04:29:25.375719",
     "status": "completed"
    },
    "tags": []
   },
   "outputs": [
    {
     "data": {
      "text/plain": [
       "age                   0\n",
       "hypertension          0\n",
       "heart_disease         0\n",
       "ever_married          0\n",
       "Residence_type        0\n",
       "avg_glucose_level     0\n",
       "bmi                   0\n",
       "(Female,)             0\n",
       "(Male,)               0\n",
       "(Other,)              0\n",
       "(Unknown,)            0\n",
       "(formerly smoked,)    0\n",
       "(never smoked,)       0\n",
       "(smokes,)             0\n",
       "(Govt_job,)           0\n",
       "(Never_worked,)       0\n",
       "(Private,)            0\n",
       "(Self-employed,)      0\n",
       "(children,)           0\n",
       "dtype: int64"
      ]
     },
     "execution_count": 48,
     "metadata": {},
     "output_type": "execute_result"
    }
   ],
   "source": [
    "new_df.isnull().sum()"
   ]
  },
  {
   "cell_type": "markdown",
   "id": "38ee36c3",
   "metadata": {
    "papermill": {
     "duration": 0.024325,
     "end_time": "2022-08-01T04:29:25.464292",
     "exception": false,
     "start_time": "2022-08-01T04:29:25.439967",
     "status": "completed"
    },
    "tags": []
   },
   "source": [
    "Building training and testing set"
   ]
  },
  {
   "cell_type": "code",
   "execution_count": 49,
   "id": "7dc6a093",
   "metadata": {
    "execution": {
     "iopub.execute_input": "2022-08-01T04:29:25.515541Z",
     "iopub.status.busy": "2022-08-01T04:29:25.514866Z",
     "iopub.status.idle": "2022-08-01T04:29:25.573336Z",
     "shell.execute_reply": "2022-08-01T04:29:25.572490Z"
    },
    "papermill": {
     "duration": 0.087121,
     "end_time": "2022-08-01T04:29:25.575805",
     "exception": false,
     "start_time": "2022-08-01T04:29:25.488684",
     "status": "completed"
    },
    "tags": []
   },
   "outputs": [],
   "source": [
    "from sklearn.model_selection import train_test_split"
   ]
  },
  {
   "cell_type": "code",
   "execution_count": 50,
   "id": "ad5512da",
   "metadata": {
    "execution": {
     "iopub.execute_input": "2022-08-01T04:29:25.633415Z",
     "iopub.status.busy": "2022-08-01T04:29:25.632612Z",
     "iopub.status.idle": "2022-08-01T04:29:25.640173Z",
     "shell.execute_reply": "2022-08-01T04:29:25.639320Z"
    },
    "papermill": {
     "duration": 0.041711,
     "end_time": "2022-08-01T04:29:25.642407",
     "exception": false,
     "start_time": "2022-08-01T04:29:25.600696",
     "status": "completed"
    },
    "tags": []
   },
   "outputs": [],
   "source": [
    "x_train, x_test, y_train, y_test = train_test_split(new_df, y, test_size = 0.3, random_state = 42)"
   ]
  },
  {
   "cell_type": "markdown",
   "id": "a237547a",
   "metadata": {},
   "source": [
    "# Support Vector Classifier"
   ]
  },
  {
   "cell_type": "code",
   "execution_count": 51,
   "id": "c77a6e14",
   "metadata": {
    "execution": {
     "iopub.execute_input": "2022-08-01T04:29:25.693690Z",
     "iopub.status.busy": "2022-08-01T04:29:25.692952Z",
     "iopub.status.idle": "2022-08-01T04:29:25.765770Z",
     "shell.execute_reply": "2022-08-01T04:29:25.764617Z"
    },
    "papermill": {
     "duration": 0.101158,
     "end_time": "2022-08-01T04:29:25.768395",
     "exception": false,
     "start_time": "2022-08-01T04:29:25.667237",
     "status": "completed"
    },
    "tags": []
   },
   "outputs": [],
   "source": [
    "from sklearn.svm import SVC"
   ]
  },
  {
   "cell_type": "code",
   "execution_count": 52,
   "id": "2c65ce85",
   "metadata": {
    "execution": {
     "iopub.execute_input": "2022-08-01T04:29:25.819066Z",
     "iopub.status.busy": "2022-08-01T04:29:25.818659Z",
     "iopub.status.idle": "2022-08-01T04:29:25.823402Z",
     "shell.execute_reply": "2022-08-01T04:29:25.822296Z"
    },
    "papermill": {
     "duration": 0.03254,
     "end_time": "2022-08-01T04:29:25.825610",
     "exception": false,
     "start_time": "2022-08-01T04:29:25.793070",
     "status": "completed"
    },
    "tags": []
   },
   "outputs": [],
   "source": [
    "svc = SVC()"
   ]
  },
  {
   "cell_type": "code",
   "execution_count": 53,
   "id": "11849bb6",
   "metadata": {
    "execution": {
     "iopub.execute_input": "2022-08-01T04:29:25.876921Z",
     "iopub.status.busy": "2022-08-01T04:29:25.876279Z",
     "iopub.status.idle": "2022-08-01T04:29:25.999358Z",
     "shell.execute_reply": "2022-08-01T04:29:25.997720Z"
    },
    "papermill": {
     "duration": 0.151977,
     "end_time": "2022-08-01T04:29:26.002213",
     "exception": false,
     "start_time": "2022-08-01T04:29:25.850236",
     "status": "completed"
    },
    "tags": []
   },
   "outputs": [
    {
     "name": "stderr",
     "output_type": "stream",
     "text": [
      "C:\\Users\\DELL\\anaconda3\\lib\\site-packages\\sklearn\\utils\\validation.py:1688: FutureWarning: Feature names only support names that are all strings. Got feature names with dtypes: ['str', 'tuple']. An error will be raised in 1.2.\n",
      "  warnings.warn(\n"
     ]
    },
    {
     "data": {
      "text/plain": [
       "SVC()"
      ]
     },
     "execution_count": 53,
     "metadata": {},
     "output_type": "execute_result"
    }
   ],
   "source": [
    "svc.fit(x_train,y_train)"
   ]
  },
  {
   "cell_type": "code",
   "execution_count": 54,
   "id": "3af6a9d0",
   "metadata": {
    "execution": {
     "iopub.execute_input": "2022-08-01T04:29:26.054133Z",
     "iopub.status.busy": "2022-08-01T04:29:26.053145Z",
     "iopub.status.idle": "2022-08-01T04:29:26.114074Z",
     "shell.execute_reply": "2022-08-01T04:29:26.112797Z"
    },
    "papermill": {
     "duration": 0.089815,
     "end_time": "2022-08-01T04:29:26.116784",
     "exception": false,
     "start_time": "2022-08-01T04:29:26.026969",
     "status": "completed"
    },
    "tags": []
   },
   "outputs": [
    {
     "name": "stderr",
     "output_type": "stream",
     "text": [
      "C:\\Users\\DELL\\anaconda3\\lib\\site-packages\\sklearn\\utils\\validation.py:1688: FutureWarning: Feature names only support names that are all strings. Got feature names with dtypes: ['str', 'tuple']. An error will be raised in 1.2.\n",
      "  warnings.warn(\n"
     ]
    }
   ],
   "source": [
    "y_pred = svc.predict(x_test)"
   ]
  },
  {
   "cell_type": "markdown",
   "id": "116fad75",
   "metadata": {
    "papermill": {
     "duration": 0.024702,
     "end_time": "2022-08-01T04:29:26.166297",
     "exception": false,
     "start_time": "2022-08-01T04:29:26.141595",
     "status": "completed"
    },
    "tags": []
   },
   "source": [
    "Checking accuracy of the model"
   ]
  },
  {
   "cell_type": "code",
   "execution_count": 55,
   "id": "4d731ac5",
   "metadata": {
    "execution": {
     "iopub.execute_input": "2022-08-01T04:29:26.218112Z",
     "iopub.status.busy": "2022-08-01T04:29:26.217746Z",
     "iopub.status.idle": "2022-08-01T04:29:26.223058Z",
     "shell.execute_reply": "2022-08-01T04:29:26.221941Z"
    },
    "papermill": {
     "duration": 0.033994,
     "end_time": "2022-08-01T04:29:26.225218",
     "exception": false,
     "start_time": "2022-08-01T04:29:26.191224",
     "status": "completed"
    },
    "tags": []
   },
   "outputs": [],
   "source": [
    "from sklearn.metrics import accuracy_score"
   ]
  },
  {
   "cell_type": "code",
   "execution_count": 56,
   "id": "305ce771",
   "metadata": {
    "execution": {
     "iopub.execute_input": "2022-08-01T04:29:26.276729Z",
     "iopub.status.busy": "2022-08-01T04:29:26.276338Z",
     "iopub.status.idle": "2022-08-01T04:29:26.281654Z",
     "shell.execute_reply": "2022-08-01T04:29:26.280781Z"
    },
    "papermill": {
     "duration": 0.03374,
     "end_time": "2022-08-01T04:29:26.283724",
     "exception": false,
     "start_time": "2022-08-01T04:29:26.249984",
     "status": "completed"
    },
    "tags": []
   },
   "outputs": [
    {
     "name": "stdout",
     "output_type": "stream",
     "text": [
      "Accuracy =  94.19439008480104\n"
     ]
    }
   ],
   "source": [
    "print('Accuracy = ', accuracy_score(y_pred,y_test)*100)"
   ]
  },
  {
   "cell_type": "markdown",
   "id": "619c0dfc",
   "metadata": {
    "papermill": {
     "duration": 0.024303,
     "end_time": "2022-08-01T04:29:26.333037",
     "exception": false,
     "start_time": "2022-08-01T04:29:26.308734",
     "status": "completed"
    },
    "tags": []
   },
   "source": [
    "# KNN"
   ]
  },
  {
   "cell_type": "code",
   "execution_count": 57,
   "id": "3030937c",
   "metadata": {
    "execution": {
     "iopub.execute_input": "2022-08-01T04:29:26.385426Z",
     "iopub.status.busy": "2022-08-01T04:29:26.385061Z",
     "iopub.status.idle": "2022-08-01T04:29:26.436238Z",
     "shell.execute_reply": "2022-08-01T04:29:26.435334Z"
    },
    "papermill": {
     "duration": 0.079578,
     "end_time": "2022-08-01T04:29:26.438562",
     "exception": false,
     "start_time": "2022-08-01T04:29:26.358984",
     "status": "completed"
    },
    "tags": []
   },
   "outputs": [],
   "source": [
    "from sklearn.neighbors import KNeighborsClassifier"
   ]
  },
  {
   "cell_type": "code",
   "execution_count": 58,
   "id": "8e254318",
   "metadata": {
    "execution": {
     "iopub.execute_input": "2022-08-01T04:29:26.489806Z",
     "iopub.status.busy": "2022-08-01T04:29:26.489438Z",
     "iopub.status.idle": "2022-08-01T04:29:26.494293Z",
     "shell.execute_reply": "2022-08-01T04:29:26.493227Z"
    },
    "papermill": {
     "duration": 0.032978,
     "end_time": "2022-08-01T04:29:26.496424",
     "exception": false,
     "start_time": "2022-08-01T04:29:26.463446",
     "status": "completed"
    },
    "tags": []
   },
   "outputs": [],
   "source": [
    "knn = KNeighborsClassifier(n_neighbors = 5)"
   ]
  },
  {
   "cell_type": "code",
   "execution_count": 59,
   "id": "584cf292",
   "metadata": {
    "execution": {
     "iopub.execute_input": "2022-08-01T04:29:26.547469Z",
     "iopub.status.busy": "2022-08-01T04:29:26.547079Z",
     "iopub.status.idle": "2022-08-01T04:29:26.557528Z",
     "shell.execute_reply": "2022-08-01T04:29:26.556078Z"
    },
    "papermill": {
     "duration": 0.040144,
     "end_time": "2022-08-01T04:29:26.561224",
     "exception": false,
     "start_time": "2022-08-01T04:29:26.521080",
     "status": "completed"
    },
    "tags": []
   },
   "outputs": [
    {
     "name": "stderr",
     "output_type": "stream",
     "text": [
      "C:\\Users\\DELL\\anaconda3\\lib\\site-packages\\sklearn\\utils\\validation.py:1688: FutureWarning: Feature names only support names that are all strings. Got feature names with dtypes: ['str', 'tuple']. An error will be raised in 1.2.\n",
      "  warnings.warn(\n"
     ]
    },
    {
     "data": {
      "text/plain": [
       "KNeighborsClassifier()"
      ]
     },
     "execution_count": 59,
     "metadata": {},
     "output_type": "execute_result"
    }
   ],
   "source": [
    "knn.fit(x_train,y_train)"
   ]
  },
  {
   "cell_type": "code",
   "execution_count": 60,
   "id": "8430ec24",
   "metadata": {
    "execution": {
     "iopub.execute_input": "2022-08-01T04:29:26.613469Z",
     "iopub.status.busy": "2022-08-01T04:29:26.613068Z",
     "iopub.status.idle": "2022-08-01T04:29:26.842990Z",
     "shell.execute_reply": "2022-08-01T04:29:26.841770Z"
    },
    "papermill": {
     "duration": 0.258757,
     "end_time": "2022-08-01T04:29:26.845638",
     "exception": false,
     "start_time": "2022-08-01T04:29:26.586881",
     "status": "completed"
    },
    "tags": []
   },
   "outputs": [
    {
     "name": "stderr",
     "output_type": "stream",
     "text": [
      "C:\\Users\\DELL\\anaconda3\\lib\\site-packages\\sklearn\\utils\\validation.py:1688: FutureWarning: Feature names only support names that are all strings. Got feature names with dtypes: ['str', 'tuple']. An error will be raised in 1.2.\n",
      "  warnings.warn(\n"
     ]
    }
   ],
   "source": [
    "y_prediction = knn.predict(x_test)"
   ]
  },
  {
   "cell_type": "code",
   "execution_count": 61,
   "id": "fb667f00",
   "metadata": {
    "execution": {
     "iopub.execute_input": "2022-08-01T04:29:26.897415Z",
     "iopub.status.busy": "2022-08-01T04:29:26.897030Z",
     "iopub.status.idle": "2022-08-01T04:29:26.903864Z",
     "shell.execute_reply": "2022-08-01T04:29:26.902727Z"
    },
    "papermill": {
     "duration": 0.036664,
     "end_time": "2022-08-01T04:29:26.907411",
     "exception": false,
     "start_time": "2022-08-01T04:29:26.870747",
     "status": "completed"
    },
    "tags": []
   },
   "outputs": [
    {
     "name": "stdout",
     "output_type": "stream",
     "text": [
      "Accuracy =  93.54207436399217\n"
     ]
    }
   ],
   "source": [
    "#Printing Accuracy\n",
    "print('Accuracy = ',accuracy_score(y_prediction,y_test)*100)"
   ]
  },
  {
   "cell_type": "markdown",
   "id": "44d2d315",
   "metadata": {
    "papermill": {
     "duration": 0.024753,
     "end_time": "2022-08-01T04:29:26.958431",
     "exception": false,
     "start_time": "2022-08-01T04:29:26.933678",
     "status": "completed"
    },
    "tags": []
   },
   "source": [
    "Confusion matrix"
   ]
  },
  {
   "cell_type": "code",
   "execution_count": 62,
   "id": "2835d579",
   "metadata": {
    "execution": {
     "iopub.execute_input": "2022-08-01T04:29:27.010806Z",
     "iopub.status.busy": "2022-08-01T04:29:27.010034Z",
     "iopub.status.idle": "2022-08-01T04:29:27.015348Z",
     "shell.execute_reply": "2022-08-01T04:29:27.014173Z"
    },
    "papermill": {
     "duration": 0.033892,
     "end_time": "2022-08-01T04:29:27.017621",
     "exception": false,
     "start_time": "2022-08-01T04:29:26.983729",
     "status": "completed"
    },
    "tags": []
   },
   "outputs": [],
   "source": [
    "from sklearn.metrics import confusion_matrix\n",
    "import seaborn as sns\n",
    "import matplotlib.pyplot as plt"
   ]
  },
  {
   "cell_type": "code",
   "execution_count": 63,
   "id": "86ab7889",
   "metadata": {
    "execution": {
     "iopub.execute_input": "2022-08-01T04:29:27.070348Z",
     "iopub.status.busy": "2022-08-01T04:29:27.069468Z",
     "iopub.status.idle": "2022-08-01T04:29:27.077213Z",
     "shell.execute_reply": "2022-08-01T04:29:27.076440Z"
    },
    "papermill": {
     "duration": 0.037028,
     "end_time": "2022-08-01T04:29:27.079635",
     "exception": false,
     "start_time": "2022-08-01T04:29:27.042607",
     "status": "completed"
    },
    "tags": []
   },
   "outputs": [],
   "source": [
    "matrix = confusion_matrix(y_test, y_prediction)"
   ]
  },
  {
   "cell_type": "code",
   "execution_count": 64,
   "id": "ad0c3642",
   "metadata": {
    "execution": {
     "iopub.execute_input": "2022-08-01T04:29:27.131777Z",
     "iopub.status.busy": "2022-08-01T04:29:27.130738Z",
     "iopub.status.idle": "2022-08-01T04:29:27.367084Z",
     "shell.execute_reply": "2022-08-01T04:29:27.365962Z"
    },
    "papermill": {
     "duration": 0.264982,
     "end_time": "2022-08-01T04:29:27.369532",
     "exception": false,
     "start_time": "2022-08-01T04:29:27.104550",
     "status": "completed"
    },
    "tags": []
   },
   "outputs": [
    {
     "data": {
      "text/plain": [
       "<function matplotlib.pyplot.show(close=None, block=None)>"
      ]
     },
     "execution_count": 64,
     "metadata": {},
     "output_type": "execute_result"
    },
    {
     "data": {
      "image/png": "[encoded data removed]",
      "text/plain": [
       "<Figure size 432x288 with 2 Axes>"
      ]
     },
     "metadata": {
      "needs_background": "light"
     },
     "output_type": "display_data"
    }
   ],
   "source": [
    "#Plotting confusion matrix with seaborn\n",
    "mat = sns.heatmap(matrix, annot = True, cmap = 'Blues')\n",
    "\n",
    "#labeling the matrix\n",
    "mat.set_title('Confusion matrix')\n",
    "mat.set_xlabel('Predicted Values')\n",
    "mat.set_ylabel('Actual Values')\n",
    "\n",
    "#Ticket labels in the matrix\n",
    "mat.xaxis.set_ticklabels(['False','True'])\n",
    "mat.yaxis.set_ticklabels(['False','True'])\n",
    "\n",
    "plt.show"
   ]
  },
  {
   "cell_type": "markdown",
   "id": "244e0a3f",
   "metadata": {
    "papermill": {
     "duration": 0.025414,
     "end_time": "2022-08-01T04:29:27.420503",
     "exception": false,
     "start_time": "2022-08-01T04:29:27.395089",
     "status": "completed"
    },
    "tags": []
   },
   "source": [
    "Out of both the classification algorithm SVC is more accurate."
   ]
  }
 ],
 "metadata": {
  "kernelspec": {
   "display_name": "Python 3 (ipykernel)",
   "language": "python",
   "name": "python3"
  },
  "language_info": {
   "codemirror_mode": {
    "name": "ipython",
    "version": 3
   },
   "file_extension": ".py",
   "mimetype": "text/x-python",
   "name": "python",
   "nbconvert_exporter": "python",
   "pygments_lexer": "ipython3",
   "version": "3.9.12"
  },
  "papermill": {
   "default_parameters": {},
   "duration": 17.35155,
   "end_time": "2022-08-01T04:29:28.168805",
   "environment_variables": {},
   "exception": null,
   "input_path": "__notebook__.ipynb",
   "output_path": "__notebook__.ipynb",
   "parameters": {},
   "start_time": "2022-08-01T04:29:10.817255",
   "version": "2.3.4"
  }
 },
 "nbformat": 4,
 "nbformat_minor": 5
}
